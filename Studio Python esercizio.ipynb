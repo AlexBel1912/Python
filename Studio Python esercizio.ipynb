{
 "cells": [
  {
   "cell_type": "code",
   "execution_count": 2,
   "id": "415739cd-831f-4f0e-86fb-54c7963b348e",
   "metadata": {},
   "outputs": [
    {
     "name": "stdout",
     "output_type": "stream",
     "text": [
      "Gennaio: 100 €\n",
      "Febbraio: 90 € (media prec: 100.00 € - il guadagno attuale è minore)\n",
      "Marzo: 70 € (media prec: 95.00 € - il guadagno attuale è minore)\n",
      "Aprile: 40 € (media prec: 86.67 € - il guadagno attuale è minore)\n",
      "Maggio: 50 € (media prec: 75.00 € - il guadagno attuale è minore)\n",
      "Giugno: 80 € (media prec: 70.00 € - il guadagno attuale è maggiore)\n",
      "Luglio: 90 € (media prec: 71.67 € - il guadagno attuale è maggiore)\n",
      "Agosto: 120 € (media prec: 74.29 € - il guadagno attuale è maggiore)\n",
      "Settembre: 80 € (media prec: 80.00 € - il guadagno attuale è uguale)\n",
      "Ottobre: 20 € (media prec: 80.00 € - il guadagno attuale è minore)\n",
      "Novembre: 50 € (media prec: 74.00 € - il guadagno attuale è minore)\n",
      "Dicembre: 50 € (media prec: 71.82 € - il guadagno attuale è minore)\n"
     ]
    }
   ],
   "source": [
    "guadagni = [100, 90, 70, 40, 50, 80, 90, 120, 80, 20, 50, 50]\n",
    "mesi = ['gennaio', 'febbraio', 'marzo', 'aprile', 'maggio', 'giugno', 'luglio', 'agosto', 'settembre', 'ottobre', 'novembre', 'dicembre']\n",
    "\n",
    "for indice_mese, guadagno_attuale in enumerate(guadagni):\n",
    "    nome_mese = mesi[indice_mese]  # Ottieni il nome del mese dall'indice\n",
    "\n",
    "    if indice_mese == 0:  # Primo mese\n",
    "        print(f\"{nome_mese.capitalize()}: {guadagno_attuale} €\")\n",
    "    else:\n",
    "        guadagni_precedenti = guadagni[:indice_mese]\n",
    "        media_precedente = sum(guadagni_precedenti) / len(guadagni_precedenti)\n",
    "\n",
    "        if guadagno_attuale > media_precedente:\n",
    "            print(f\"{nome_mese.capitalize()}: {guadagno_attuale} € (media prec: {media_precedente:.2f} € - il guadagno attuale è maggiore)\")\n",
    "        elif guadagno_attuale < media_precedente:\n",
    "            print(f\"{nome_mese.capitalize()}: {guadagno_attuale} € (media prec: {media_precedente:.2f} € - il guadagno attuale è minore)\")\n",
    "        else:\n",
    "            print(f\"{nome_mese.capitalize()}: {guadagno_attuale} € (media prec: {media_precedente:.2f} € - il guadagno attuale è uguale)\")"
   ]
  },
  {
   "cell_type": "code",
   "execution_count": null,
   "id": "944ad95b-0f7e-4add-8b87-7f747f3aab56",
   "metadata": {},
   "outputs": [],
   "source": []
  }
 ],
 "metadata": {
  "kernelspec": {
   "display_name": "Python [conda env:base] *",
   "language": "python",
   "name": "conda-base-py"
  },
  "language_info": {
   "codemirror_mode": {
    "name": "ipython",
    "version": 3
   },
   "file_extension": ".py",
   "mimetype": "text/x-python",
   "name": "python",
   "nbconvert_exporter": "python",
   "pygments_lexer": "ipython3",
   "version": "3.12.7"
  }
 },
 "nbformat": 4,
 "nbformat_minor": 5
}
