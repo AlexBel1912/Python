{
 "cells": [
  {
   "cell_type": "code",
   "execution_count": 13,
   "id": "79ff4aea-e580-40f3-a1a2-52c413707782",
   "metadata": {},
   "outputs": [
    {
     "name": "stdout",
     "output_type": "stream",
     "text": [
      "0\n",
      "1\n",
      "2\n",
      "3\n",
      "4\n",
      "5\n",
      "6\n",
      "7\n",
      "8\n",
      "9\n"
     ]
    }
   ],
   "source": [
    "#FUNZIONE RANGE\n",
    "for numero in range(10):\n",
    "    print(numero)"
   ]
  },
  {
   "cell_type": "code",
   "execution_count": 3,
   "id": "704d1f18-a79b-49db-961e-b290e116d821",
   "metadata": {},
   "outputs": [
    {
     "data": {
      "text/plain": [
       "range(0, 15)"
      ]
     },
     "execution_count": 3,
     "metadata": {},
     "output_type": "execute_result"
    }
   ],
   "source": [
    "range(15)"
   ]
  },
  {
   "cell_type": "code",
   "execution_count": 5,
   "id": "c7dcfbf8-58a7-426a-acf9-8a2ab58278c4",
   "metadata": {},
   "outputs": [
    {
     "data": {
      "text/plain": [
       "[0, 1, 2, 3, 4, 5, 6, 7, 8, 9, 10, 11, 12, 13, 14]"
      ]
     },
     "execution_count": 5,
     "metadata": {},
     "output_type": "execute_result"
    }
   ],
   "source": [
    "list(range(15))"
   ]
  },
  {
   "cell_type": "code",
   "execution_count": 7,
   "id": "bb5f7b1c-9457-4e16-90c8-a38dfbb061d9",
   "metadata": {},
   "outputs": [
    {
     "data": {
      "text/plain": [
       "[3, 4, 5, 6, 7, 8, 9, 10, 11, 12, 13, 14]"
      ]
     },
     "execution_count": 7,
     "metadata": {},
     "output_type": "execute_result"
    }
   ],
   "source": [
    "list(range(3, 15))"
   ]
  },
  {
   "cell_type": "code",
   "execution_count": 9,
   "id": "00ebac19-20de-4eb6-8be6-53c99799ddcd",
   "metadata": {},
   "outputs": [
    {
     "data": {
      "text/plain": [
       "[2, 4, 6, 8, 10, 12, 14]"
      ]
     },
     "execution_count": 9,
     "metadata": {},
     "output_type": "execute_result"
    }
   ],
   "source": [
    "list(range(2, 15, 2))"
   ]
  },
  {
   "cell_type": "code",
   "execution_count": 11,
   "id": "93f9134a-fde3-4d70-9944-7917177d9944",
   "metadata": {},
   "outputs": [
    {
     "data": {
      "text/plain": [
       "[5, 4, 3, 2, 1]"
      ]
     },
     "execution_count": 11,
     "metadata": {},
     "output_type": "execute_result"
    }
   ],
   "source": [
    "list(range(5, 0, -1))"
   ]
  },
  {
   "cell_type": "code",
   "execution_count": 15,
   "id": "f3047885-ddd9-4e88-a6da-4f055757ac51",
   "metadata": {},
   "outputs": [],
   "source": [
    "#FUNZIONE enumerate()\n",
    "libri = [\"enciclopedia\", \"atlante\", \"dizionario\"] "
   ]
  },
  {
   "cell_type": "code",
   "execution_count": 17,
   "id": "3807f715-2007-4ef7-8d58-fa794f281611",
   "metadata": {},
   "outputs": [
    {
     "name": "stdout",
     "output_type": "stream",
     "text": [
      "enciclopedia\n",
      "atlante\n",
      "dizionario\n"
     ]
    }
   ],
   "source": [
    "for libro in libri: \n",
    "    print(libro) "
   ]
  },
  {
   "cell_type": "code",
   "execution_count": 19,
   "id": "44121b0b-f55b-497f-b5f0-01be455ccb49",
   "metadata": {},
   "outputs": [
    {
     "name": "stdout",
     "output_type": "stream",
     "text": [
      "0 enciclopedia\n",
      "1 atlante\n",
      "2 dizionario\n"
     ]
    }
   ],
   "source": [
    "for contatore, libro in enumerate(libri): \n",
    "    print(contatore, libro)"
   ]
  },
  {
   "cell_type": "code",
   "execution_count": 21,
   "id": "efca10c3-30a7-4db1-957b-1507aa57c544",
   "metadata": {},
   "outputs": [
    {
     "name": "stdout",
     "output_type": "stream",
     "text": [
      "Lucio frequenta ingegneria e ha 19 anni.\n",
      "\n",
      "Silvio frequenta medicina e ha 22 anni.\n",
      "\n",
      "Michela frequenta cinema e ha 25 anni.\n",
      "\n",
      "Natalia frequenta giurisprudenza e ha 21 anni.\n",
      "\n"
     ]
    }
   ],
   "source": [
    "#zip()\n",
    "alunni = [\"Lucio\", \"Silvio\", \"Michela\", \"Natalia\"] \n",
    "corsi = [\"ingegneria\", \"medicina\", \"cinema\", \"giurisprudenza\"]\n",
    "anni = [19, 22, 25, 21]\n",
    "for alunno, corso, eta in zip(alunni, corsi, anni): \n",
    "    print(alunno, \"frequenta\", corso, \"e ha\", eta, \"anni.\\n\")"
   ]
  },
  {
   "cell_type": "code",
   "execution_count": 29,
   "id": "f8fab1e5-46ce-49c4-82e8-39273619619d",
   "metadata": {},
   "outputs": [
    {
     "name": "stdin",
     "output_type": "stream",
     "text": [
      "Inserisci un numero 29\n",
      "Inserisci un numero 59\n",
      "Inserisci un numero 84\n",
      "Inserisci un numero 125\n"
     ]
    },
    {
     "name": "stdout",
     "output_type": "stream",
     "text": [
      "Hai inserito i numeri: [29, 59, 84]\n"
     ]
    }
   ],
   "source": [
    "numeri = []  # inizializzazione \n",
    "while True:  # ciclo infinito! Dovremo contare sul 'break' per uscire\n",
    "    numero = int(input(\"Inserisci un numero\"))\n",
    "    if numero > 100: \n",
    "        break \n",
    "    else: \n",
    "        numeri.append(numero) \n",
    "print(\"Hai inserito i numeri:\", numeri)"
   ]
  },
  {
   "cell_type": "code",
   "execution_count": 31,
   "id": "0810b31b-ceee-40c0-90e6-275d74beb742",
   "metadata": {},
   "outputs": [
    {
     "name": "stdin",
     "output_type": "stream",
     "text": [
      "Inserisci il nome di un tuo amico! Per terminare, scrivi 'finito' Andrei\n",
      "Inserisci il nome di un tuo amico! Per terminare, scrivi 'finito' George\n",
      "Inserisci il nome di un tuo amico! Per terminare, scrivi 'finito' Finito\n",
      "Inserisci il nome di un tuo amico! Per terminare, scrivi 'finito' finito\n"
     ]
    },
    {
     "name": "stdout",
     "output_type": "stream",
     "text": [
      "I tuoi amici sono: ['Andrei', 'George', 'Finito']\n"
     ]
    }
   ],
   "source": [
    "amici = []  # inizializzazione \n",
    "while True:  # ciclo infinito! Dovremo contare sul 'break' per uscire \n",
    "\tdato = input(\"Inserisci il nome di un tuo amico! Per terminare, scrivi 'finito'\") \n",
    "\tif dato == \"finito\":\n",
    "\t\tbreak \n",
    "\telse: \n",
    "\t\tamici.append(dato) \n",
    "if len(amici) == 0: \n",
    "\tprint(\"Oh no! Non hai amici!\") \n",
    "else: \n",
    "    print(\"I tuoi amici sono:\", amici)"
   ]
  },
  {
   "cell_type": "code",
   "execution_count": 47,
   "id": "ae36b4c8-e912-4af6-a890-8d2c3e77ac1c",
   "metadata": {},
   "outputs": [
    {
     "name": "stdout",
     "output_type": "stream",
     "text": [
      "1\n",
      "3\n",
      "5\n",
      "7\n",
      "9\n",
      "11\n",
      "13\n",
      "15\n",
      "17\n",
      "19\n"
     ]
    }
   ],
   "source": [
    "numero = 0  # inizializzazione\n",
    "while numero < 20: \n",
    "    numero += 1 \n",
    "    if numero % 2 == 0: \n",
    "    \tcontinue \n",
    "    else:\n",
    "        print(numero)"
   ]
  },
  {
   "cell_type": "code",
   "execution_count": 52,
   "id": "f3376300-5039-4cf7-8e5d-3df96eeb7a7c",
   "metadata": {},
   "outputs": [
    {
     "name": "stdout",
     "output_type": "stream",
     "text": [
      "Ad Agosto 2022 i proventi sono stati 500 €\n"
     ]
    }
   ],
   "source": [
    "proventi = [100, 200, 300, 400, 100, 500, 600, 400, 300, 100, 100]\n",
    "date = [\"Luglio 2021\", \"Agosto 2023\", \"Maggio 2020\", \"Agosto 2021\", \"Marzo 2023\", \"Agosto 2022\", \"Gennaio 2021\", \"Aprile 2023\", \"Agosto 2020\", \"Marzo 2022\", \"Gennaio 2022\"] \n",
    "for cifra, data in zip(proventi, date): \n",
    "    if cifra > 400 and \"Agosto\" in data: \n",
    "        print(\"Ad\", data, \"i proventi sono stati\", cifra, \"€\")\n",
    "        break"
   ]
  },
  {
   "cell_type": "code",
   "execution_count": null,
   "id": "ffe0f4be-135c-46de-89ad-b03ab2738ede",
   "metadata": {},
   "outputs": [],
   "source": []
  }
 ],
 "metadata": {
  "kernelspec": {
   "display_name": "Python [conda env:base] *",
   "language": "python",
   "name": "conda-base-py"
  },
  "language_info": {
   "codemirror_mode": {
    "name": "ipython",
    "version": 3
   },
   "file_extension": ".py",
   "mimetype": "text/x-python",
   "name": "python",
   "nbconvert_exporter": "python",
   "pygments_lexer": "ipython3",
   "version": "3.12.7"
  }
 },
 "nbformat": 4,
 "nbformat_minor": 5
}
