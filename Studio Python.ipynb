{
 "cells": [
  {
   "cell_type": "code",
   "execution_count": 8,
   "id": "58cfddaf-066f-402c-921d-ceeff5a2a175",
   "metadata": {},
   "outputs": [
    {
     "name": "stdout",
     "output_type": "stream",
     "text": [
      "- E\n",
      "- p\n",
      "- i\n",
      "- c\n",
      "- o\n",
      "- d\n",
      "- e\n"
     ]
    }
   ],
   "source": [
    "nome_scuola = \"Epicode\"\n",
    "\n",
    "lunghezza = len(nome_scuola) #init\n",
    "contatore = 0 # init\n",
    "\n",
    "while contatore < lunghezza:\n",
    "    carattere = nome_scuola[contatore]\n",
    "    print(\"-\", carattere)\n",
    "    contatore +=1 #update"
   ]
  },
  {
   "cell_type": "code",
   "execution_count": 13,
   "id": "3da062b7-04f1-405d-8703-6e1096ae0001",
   "metadata": {},
   "outputs": [],
   "source": [
    "studenti = [\"Alex\", \"Bob\", \"Cindy\", \"Dan\", \"Emma\", \"Faith\", \"Grace\", \"Henry\"] \n",
    "corsi = [\"Cybersecurity\", \"Data Analyst\", \"Backend\", \"Frontend\", \"Data Analyst\", \"Backend\"]\n"
   ]
  },
  {
   "cell_type": "code",
   "execution_count": 16,
   "id": "9156be44-1e2d-4798-8b9e-23b327722f97",
   "metadata": {},
   "outputs": [
    {
     "data": {
      "text/plain": [
       "8"
      ]
     },
     "execution_count": 16,
     "metadata": {},
     "output_type": "execute_result"
    }
   ],
   "source": [
    "len(studenti)"
   ]
  },
  {
   "cell_type": "code",
   "execution_count": 18,
   "id": "bb1e9b5c-4639-44b5-ae04-2e89eef06316",
   "metadata": {},
   "outputs": [
    {
     "data": {
      "text/plain": [
       "6"
      ]
     },
     "execution_count": 18,
     "metadata": {},
     "output_type": "execute_result"
    }
   ],
   "source": [
    "len(corsi)"
   ]
  },
  {
   "cell_type": "code",
   "execution_count": 20,
   "id": "703e9ba2-03f5-4aeb-afb6-8e97cf447a76",
   "metadata": {},
   "outputs": [],
   "source": [
    "corsi.append(\"Frontend\")"
   ]
  },
  {
   "cell_type": "code",
   "execution_count": 24,
   "id": "daed6d1d-1a0c-4c04-b118-aef8363ac5d1",
   "metadata": {},
   "outputs": [],
   "source": [
    "corsi.append(\"Cybersecurity\")"
   ]
  },
  {
   "cell_type": "code",
   "execution_count": 26,
   "id": "165c59ec-f765-46a4-ab1e-6c5e128ed362",
   "metadata": {},
   "outputs": [
    {
     "data": {
      "text/plain": [
       "['Alex', 'Bob', 'Cindy', 'Dan', 'Emma', 'Faith', 'Grace', 'Henry']"
      ]
     },
     "execution_count": 26,
     "metadata": {},
     "output_type": "execute_result"
    }
   ],
   "source": [
    "studenti"
   ]
  },
  {
   "cell_type": "code",
   "execution_count": 28,
   "id": "6f90c177-ac23-47ee-9f4f-9151b245a267",
   "metadata": {},
   "outputs": [
    {
     "data": {
      "text/plain": [
       "['Cybersecurity',\n",
       " 'Data Analyst',\n",
       " 'Backend',\n",
       " 'Frontend',\n",
       " 'Data Analyst',\n",
       " 'Backend',\n",
       " 'Frontend',\n",
       " 'Cybersecurity']"
      ]
     },
     "execution_count": 28,
     "metadata": {},
     "output_type": "execute_result"
    }
   ],
   "source": [
    "corsi"
   ]
  },
  {
   "cell_type": "code",
   "execution_count": 34,
   "id": "0b7ced50-c36d-49e3-9323-0412e3ac62f9",
   "metadata": {},
   "outputs": [
    {
     "name": "stdout",
     "output_type": "stream",
     "text": [
      "cyb ... ity\n"
     ]
    }
   ],
   "source": [
    "parola = \"cybersecurity\"\n",
    "inizio = parola [:3]\n",
    "fine = parola[-3:]\n",
    "\n",
    "print(inizio, \"...\", fine)"
   ]
  },
  {
   "cell_type": "code",
   "execution_count": 45,
   "id": "7b26f0b1-90a6-4d0e-b511-e4eb8c074d3b",
   "metadata": {},
   "outputs": [
    {
     "name": "stdout",
     "output_type": "stream",
     "text": [
      "cyb ... ity\n"
     ]
    }
   ],
   "source": [
    "if len(parola) <= 6:\n",
    "    print(parola)\n",
    "else:\n",
    "    inizio = parola[:3]\n",
    "    fine = parola [-3:]\n",
    "    print(inizio,\"...\", fine)\n"
   ]
  },
  {
   "cell_type": "code",
   "execution_count": 27,
   "id": "d5bba8b9-0c87-483e-a894-8f49f56c8ba7",
   "metadata": {},
   "outputs": [
    {
     "name": "stdout",
     "output_type": "stream",
     "text": [
      "0\n",
      "1\n",
      "2\n",
      "3\n",
      "4\n",
      "5\n",
      "6\n",
      "7\n",
      "8\n",
      "9\n"
     ]
    }
   ],
   "source": [
    "#funzione range()\n",
    "for numero in range(10): \n",
    "    print(numero)"
   ]
  },
  {
   "cell_type": "code",
   "execution_count": 13,
   "id": "86bb82cb-b195-48d6-b864-4ee598dd9b79",
   "metadata": {},
   "outputs": [
    {
     "data": {
      "text/plain": [
       "range(0, 15)"
      ]
     },
     "execution_count": 13,
     "metadata": {},
     "output_type": "execute_result"
    }
   ],
   "source": [
    "range(15) "
   ]
  },
  {
   "cell_type": "code",
   "execution_count": 9,
   "id": "33f90b40-fd34-4c00-bb7d-c1034edadb5a",
   "metadata": {},
   "outputs": [
    {
     "data": {
      "text/plain": [
       "[0, 1, 2, 3, 4, 5, 6, 7, 8, 9, 10, 11, 12, 13, 14]"
      ]
     },
     "execution_count": 9,
     "metadata": {},
     "output_type": "execute_result"
    }
   ],
   "source": [
    "list(range(15))"
   ]
  },
  {
   "cell_type": "code",
   "execution_count": 15,
   "id": "8f121648-e179-4b89-b348-000fdc72e151",
   "metadata": {},
   "outputs": [
    {
     "data": {
      "text/plain": [
       "[3, 4, 5, 6, 7, 8, 9, 10, 11, 12, 13, 14]"
      ]
     },
     "execution_count": 15,
     "metadata": {},
     "output_type": "execute_result"
    }
   ],
   "source": [
    "list(range(3, 15))"
   ]
  },
  {
   "cell_type": "code",
   "execution_count": 17,
   "id": "8e3c11c2-fedc-4f11-bb42-112e1dbead14",
   "metadata": {},
   "outputs": [
    {
     "data": {
      "text/plain": [
       "[2, 4, 6, 8, 10, 12, 14]"
      ]
     },
     "execution_count": 17,
     "metadata": {},
     "output_type": "execute_result"
    }
   ],
   "source": [
    "list(range(2, 15, 2))"
   ]
  },
  {
   "cell_type": "code",
   "execution_count": 19,
   "id": "7ee223e7-e45c-4cac-ba0c-69ed64bc29b7",
   "metadata": {},
   "outputs": [
    {
     "data": {
      "text/plain": [
       "[5, 4, 3, 2, 1]"
      ]
     },
     "execution_count": 19,
     "metadata": {},
     "output_type": "execute_result"
    }
   ],
   "source": [
    "list(range(5, 0, -1))"
   ]
  },
  {
   "cell_type": "code",
   "execution_count": 31,
   "id": "f1654188-2cf1-4218-8afd-fc88f9deb76d",
   "metadata": {},
   "outputs": [],
   "source": [
    "# funzione enumerate()\n",
    "libri = [\"enciclopedia\", \"atlante\", \"dizionario\"]"
   ]
  },
  {
   "cell_type": "code",
   "execution_count": 23,
   "id": "9b85a943-e7bb-4750-92e1-0e7c13c54c9f",
   "metadata": {},
   "outputs": [
    {
     "name": "stdout",
     "output_type": "stream",
     "text": [
      "enciclopedia\n",
      "atlante\n",
      "dizionario\n"
     ]
    }
   ],
   "source": [
    "for libro in libri: \n",
    "    print(libro)"
   ]
  },
  {
   "cell_type": "code",
   "execution_count": 25,
   "id": "78a677f5-ea40-461c-a3ad-b46ddba373e0",
   "metadata": {},
   "outputs": [
    {
     "name": "stdout",
     "output_type": "stream",
     "text": [
      "0 enciclopedia\n",
      "1 atlante\n",
      "2 dizionario\n"
     ]
    }
   ],
   "source": [
    "for contatore, libro in enumerate(libri): \n",
    "    print(contatore, libro)"
   ]
  },
  {
   "cell_type": "code",
   "execution_count": 47,
   "id": "e78b9a2f-7ad3-492b-b5ce-35b144090e88",
   "metadata": {},
   "outputs": [
    {
     "name": "stdout",
     "output_type": "stream",
     "text": [
      "Lucio frequenta ingegneria e ha 19 anni.\n",
      "\n",
      "Silvio frequenta medicina e ha 22 anni.\n",
      "\n",
      "Michela frequenta cinema e ha 25 anni.\n",
      "\n",
      "Natalia frequenta giurisprudenza e ha 21 anni.\n",
      "\n"
     ]
    }
   ],
   "source": [
    "# funzione zip()\n",
    "\n",
    "alunni = [\"Lucio\", \"Silvio\", \"Michela\", \"Natalia\"] \n",
    "corsi = [\"ingegneria\", \"medicina\", \"cinema\", \"giurisprudenza\"] \n",
    "anni = [19, 22, 25, 21] \n",
    "for alunno, corso, eta in zip(alunni, corsi, anni): \n",
    "    print(alunno, \"frequenta\", corso,\"e ha\", eta, \"anni.\\n\")"
   ]
  },
  {
   "cell_type": "code",
   "execution_count": 49,
   "id": "afd88bd8-479c-40b2-a052-e98ceec6beba",
   "metadata": {},
   "outputs": [
    {
     "name": "stdin",
     "output_type": "stream",
     "text": [
      "Inserisci un numero 25\n",
      "Inserisci un numero 6\n",
      "Inserisci un numero 58\n",
      "Inserisci un numero 5847\n"
     ]
    },
    {
     "name": "stdout",
     "output_type": "stream",
     "text": [
      "Hai inserito i numeri: [25, 6, 58]\n"
     ]
    }
   ],
   "source": [
    "numeri = []  # inizializzazione \n",
    "while True:  # ciclo infinito! Dovremo contare sul 'break' per uscire \n",
    "    numero = int(input(\"Inserisci un numero\")) \n",
    "    if numero > 100: \n",
    "        break \n",
    "    else: numeri.append(numero) \n",
    "        \n",
    "print(\"Hai inserito i numeri:\", numeri)"
   ]
  },
  {
   "cell_type": "code",
   "execution_count": 52,
   "id": "46519328-e7b3-44e2-92f8-b4a14abbb5ab",
   "metadata": {},
   "outputs": [
    {
     "name": "stdin",
     "output_type": "stream",
     "text": [
      "Inserisci il nome di un tuo amico! Per terminare, scrivi 'finito' Ana\n",
      "Inserisci il nome di un tuo amico! Per terminare, scrivi 'finito' Maria\n",
      "Inserisci il nome di un tuo amico! Per terminare, scrivi 'finito' Elena\n",
      "Inserisci il nome di un tuo amico! Per terminare, scrivi 'finito' Mich\n",
      "Inserisci il nome di un tuo amico! Per terminare, scrivi 'finito' Ghita\n",
      "Inserisci il nome di un tuo amico! Per terminare, scrivi 'finito' finito\n"
     ]
    },
    {
     "name": "stdout",
     "output_type": "stream",
     "text": [
      "I tuoi amici sono: ['Ana', 'Maria', 'Elena', 'Mich', 'Ghita']\n"
     ]
    }
   ],
   "source": [
    "amici = []  # inizializzazione \n",
    "while True:  # ciclo infinito! Dovremo contare sul 'break' per uscire \n",
    "    dato = input(\"Inserisci il nome di un tuo amico! Per terminare, scrivi 'finito'\") \n",
    "    if dato == \"finito\": \n",
    "        break \n",
    "    else: amici.append(dato) \n",
    "if len(amici) == 0: \n",
    "    print(\"Oh no! Non hai amici!\") \n",
    "else: \n",
    "    print(\"I tuoi amici sono:\", amici)"
   ]
  },
  {
   "cell_type": "code",
   "execution_count": 56,
   "id": "68fe1cfb-a2c4-458b-a1c0-00fcdd4b7418",
   "metadata": {},
   "outputs": [
    {
     "name": "stdout",
     "output_type": "stream",
     "text": [
      "1\n",
      "3\n",
      "5\n",
      "7\n",
      "9\n",
      "11\n",
      "13\n",
      "15\n",
      "17\n",
      "19\n"
     ]
    }
   ],
   "source": [
    "numero = 0  # inizializzazione \n",
    "while numero < 20: \n",
    "    numero += 1 \n",
    "    if numero % 2 == 0: \n",
    "        continue \n",
    "    else: \n",
    "        print(numero)"
   ]
  },
  {
   "cell_type": "code",
   "execution_count": null,
   "id": "2702c689-84ec-40bd-977c-3c1e804c6218",
   "metadata": {},
   "outputs": [],
   "source": [
    "proventi = [100, 200, 300, 400, 100, 500, 600, 400, 300, 100, 100] \n",
    "date = [\"Luglio 2021\", \"Agosto 2023\", \"Maggio 2020\", \"Agosto 2021\", \"Marzo 2023\", \"Agosto 2022\", \"Gennaio 2021\", \"Aprile 2023\", \"Agosto 2020\", \"Marzo 2022\", \"Gennaio 2022\"] \n",
    "for cifra, data in zip(proventi, date): \n",
    "    if cifra > 400 and \"Agosto\" in data: \n",
    "        print(\"Ad\", data, \"i proventi sono stati\", cifra, \"€\")\n",
    "        break"
   ]
  },
  {
   "cell_type": "code",
   "execution_count": 1,
   "id": "6aa97e48-37aa-4d73-a2d0-c29ca133659b",
   "metadata": {},
   "outputs": [
    {
     "name": "stdout",
     "output_type": "stream",
     "text": [
      "Requirement already satisfied: numpy in c:\\users\\lenovo\\anaconda3\\lib\\site-packages (1.26.4)\n",
      "Requirement already satisfied: pandas in c:\\users\\lenovo\\anaconda3\\lib\\site-packages (2.2.2)\n",
      "Requirement already satisfied: matplotlib in c:\\users\\lenovo\\anaconda3\\lib\\site-packages (3.9.2)\n",
      "Requirement already satisfied: python-dateutil>=2.8.2 in c:\\users\\lenovo\\anaconda3\\lib\\site-packages (from pandas) (2.9.0.post0)\n",
      "Requirement already satisfied: pytz>=2020.1 in c:\\users\\lenovo\\anaconda3\\lib\\site-packages (from pandas) (2024.1)\n",
      "Requirement already satisfied: tzdata>=2022.7 in c:\\users\\lenovo\\anaconda3\\lib\\site-packages (from pandas) (2023.3)\n",
      "Requirement already satisfied: contourpy>=1.0.1 in c:\\users\\lenovo\\anaconda3\\lib\\site-packages (from matplotlib) (1.2.0)\n",
      "Requirement already satisfied: cycler>=0.10 in c:\\users\\lenovo\\anaconda3\\lib\\site-packages (from matplotlib) (0.11.0)\n",
      "Requirement already satisfied: fonttools>=4.22.0 in c:\\users\\lenovo\\anaconda3\\lib\\site-packages (from matplotlib) (4.51.0)\n",
      "Requirement already satisfied: kiwisolver>=1.3.1 in c:\\users\\lenovo\\anaconda3\\lib\\site-packages (from matplotlib) (1.4.4)\n",
      "Requirement already satisfied: packaging>=20.0 in c:\\users\\lenovo\\anaconda3\\lib\\site-packages (from matplotlib) (24.1)\n",
      "Requirement already satisfied: pillow>=8 in c:\\users\\lenovo\\anaconda3\\lib\\site-packages (from matplotlib) (10.4.0)\n",
      "Requirement already satisfied: pyparsing>=2.3.1 in c:\\users\\lenovo\\anaconda3\\lib\\site-packages (from matplotlib) (3.1.2)\n",
      "Requirement already satisfied: six>=1.5 in c:\\users\\lenovo\\anaconda3\\lib\\site-packages (from python-dateutil>=2.8.2->pandas) (1.16.0)\n",
      "Note: you may need to restart the kernel to use updated packages.\n"
     ]
    }
   ],
   "source": [
    "pip install numpy pandas matplotlib"
   ]
  },
  {
   "cell_type": "code",
   "execution_count": null,
   "id": "b938fc21-f1e0-4dfa-88c3-faa393e35a05",
   "metadata": {},
   "outputs": [],
   "source": []
  }
 ],
 "metadata": {
  "kernelspec": {
   "display_name": "Python [conda env:base] *",
   "language": "python",
   "name": "conda-base-py"
  },
  "language_info": {
   "codemirror_mode": {
    "name": "ipython",
    "version": 3
   },
   "file_extension": ".py",
   "mimetype": "text/x-python",
   "name": "python",
   "nbconvert_exporter": "python",
   "pygments_lexer": "ipython3",
   "version": "3.12.7"
  }
 },
 "nbformat": 4,
 "nbformat_minor": 5
}
