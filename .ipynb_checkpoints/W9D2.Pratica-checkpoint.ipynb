{
 "cells": [
  {
   "cell_type": "code",
   "execution_count": 5,
   "id": "92bab4fc-a531-4a52-8121-c7d1be511ae8",
   "metadata": {},
   "outputs": [
    {
     "name": "stdout",
     "output_type": "stream",
     "text": [
      "E\n",
      "p\n",
      "i\n",
      "c\n",
      "o\n",
      "d\n",
      "e\n"
     ]
    }
   ],
   "source": [
    "\"\"\" Esercizio 1\n",
    "Abbiamo la stringa: \n",
    "nome_scuola = \"Epicode\" \n",
    "Stampare ogni carattere della stringa, uno su ogni riga, utilizzando un costrutto while.\n",
    "\"\"\"\n",
    "nome_scuola = \"Epicode\"\n",
    "indice = 0\n",
    "\n",
    "while indice < len(nome_scuola):\n",
    "    print(nome_scuola[indice])\n",
    "    indice += 1"
   ]
  },
  {
   "cell_type": "code",
   "execution_count": 262,
   "id": "85558162-3dc4-4005-a1e0-390ef08d943b",
   "metadata": {},
   "outputs": [
    {
     "name": "stdout",
     "output_type": "stream",
     "text": [
      "0\n",
      "1\n",
      "2\n",
      "3\n",
      "4\n",
      "5\n",
      "6\n",
      "7\n",
      "8\n",
      "9\n",
      "10\n",
      "11\n",
      "12\n",
      "13\n",
      "14\n",
      "15\n",
      "16\n",
      "17\n",
      "18\n",
      "19\n",
      "20\n",
      "Finito\n"
     ]
    }
   ],
   "source": [
    "\"\"\" Esercizio 2\n",
    "Stampare a video tutti i numeri da 0 a 20 utilizzando il costrutto while. \n",
    "Utilizzeremo: \n",
    "• un ciclo while \n",
    "• la funzione print() \n",
    "• una variabile, che dovrà essere inizializzata \n",
    "• una procedura di incremento\n",
    "\"\"\"\n",
    "\n",
    "numero = 0\n",
    "\n",
    "while numero <= 20:\n",
    "    print(numero)\n",
    "    numero += 1 #aggiornamento\n",
    "\n",
    "print(\"Finito\")"
   ]
  },
  {
   "cell_type": "code",
   "execution_count": 9,
   "id": "b418469f-322f-414a-8be6-0363d5e26b59",
   "metadata": {},
   "outputs": [
    {
     "name": "stdout",
     "output_type": "stream",
     "text": [
      "[0, 1, 2, 3, 4, 5, 6, 7, 8, 9, 10, 11, 12, 13, 14, 15, 16, 17, 18, 19, 20]\n"
     ]
    }
   ],
   "source": [
    "# oppure \n",
    "numeri = []\n",
    "numero = 0\n",
    "\n",
    "while numero <= 20:\n",
    "    numeri.append(numero)\n",
    "    numero += 1\n",
    "\n",
    "print(numeri)"
   ]
  },
  {
   "cell_type": "code",
   "execution_count": 13,
   "id": "114fc308-3e46-4971-90b2-5642d7e60f1f",
   "metadata": {},
   "outputs": [
    {
     "name": "stdout",
     "output_type": "stream",
     "text": [
      "2^0 = 1\n",
      "2^1 = 2\n",
      "2^2 = 4\n",
      "2^3 = 8\n",
      "2^4 = 16\n",
      "2^5 = 32\n",
      "2^6 = 64\n",
      "2^7 = 128\n",
      "2^8 = 256\n",
      "2^9 = 512\n"
     ]
    }
   ],
   "source": [
    "\"\"\" Esercizio 3\n",
    "Calcolare e stampare tutte le prime 10 potenze di 2 (e.g., 2⁰, 2¹, 2², …) utilizzando un ciclo while.\n",
    "\"\"\"\n",
    "numero = 2\n",
    "esponente = 0\n",
    "\n",
    "while esponente < 10:\n",
    "    potenza = numero**esponente\n",
    "    print(f\"{numero}^{esponente} = {potenza}\")\n",
    "    esponente += 1\n"
   ]
  },
  {
   "cell_type": "code",
   "execution_count": 15,
   "id": "dea970fe-d846-42ed-95db-402ae87c75ae",
   "metadata": {},
   "outputs": [
    {
     "name": "stdout",
     "output_type": "stream",
     "text": [
      "[1, 2, 4, 8, 16, 32, 64, 128, 256, 512]\n"
     ]
    }
   ],
   "source": [
    "numero = 2\n",
    "esponente = 0\n",
    "potenze = []\n",
    "\n",
    "while esponente < 10:\n",
    "    potenza = numero ** esponente\n",
    "    potenze.append(potenza)\n",
    "    esponente += 1\n",
    "\n",
    "print(potenze)"
   ]
  },
  {
   "cell_type": "code",
   "execution_count": 28,
   "id": "b62f4e67-920d-46a3-9744-436f623bd49b",
   "metadata": {},
   "outputs": [
    {
     "name": "stdin",
     "output_type": "stream",
     "text": [
      "Inserisci il numero di potenze da calcolare:  9\n"
     ]
    },
    {
     "name": "stdout",
     "output_type": "stream",
     "text": [
      "[1, 2, 4, 8, 16, 32, 64, 128, 256]\n"
     ]
    }
   ],
   "source": [
    "\"\"\" Esercizio 3\n",
    "Calcolare e stampare tutte le prime N potenze di 2 utilizzando un ciclo while, domandando all'utente di inserire N.\n",
    "\"\"\"\n",
    "N = int(input(\"Inserisci il numero di potenze da calcolare: \"))\n",
    "numero = 2\n",
    "esponente = 0 \n",
    "potenze = []\n",
    "\n",
    "while esponente < N:\n",
    "    potenza = numero ** esponente\n",
    "    potenze.append(potenza)\n",
    "    esponente += 1 \n",
    "\n",
    "print(potenze)\n"
   ]
  },
  {
   "cell_type": "code",
   "execution_count": 38,
   "id": "d600a0dc-b4c9-476b-b3ca-82fab45d9c73",
   "metadata": {},
   "outputs": [
    {
     "name": "stdout",
     "output_type": "stream",
     "text": [
      "1\n",
      "2\n",
      "4\n",
      "8\n",
      "16\n",
      "32\n",
      "64\n",
      "128\n",
      "256\n",
      "512\n",
      "1024\n",
      "2048\n",
      "4096\n",
      "8192\n",
      "16384\n"
     ]
    }
   ],
   "source": [
    "\"\"\" Esercizio 4\n",
    "Calcolare e stampare tutte le potenze di 2 minori di 25000.\n",
    "\"\"\"\n",
    "\n",
    "numero = 2\n",
    "esponente = 0\n",
    "potenza = 1\n",
    "potenze = []\n",
    "\n",
    "while potenza < 25000:\n",
    "    potenze.append(potenza)\n",
    "    esponente += 1\n",
    "    potenza = numero ** esponente\n",
    "\n",
    "for elemento in potenze:\n",
    "    print(elemento)\n",
    "\n",
    "    "
   ]
  },
  {
   "cell_type": "code",
   "execution_count": 32,
   "id": "d325c12a-1ed8-47b9-abba-ce2437efb74f",
   "metadata": {},
   "outputs": [
    {
     "name": "stdout",
     "output_type": "stream",
     "text": [
      "[1, 2, 4, 8, 16, 32, 64, 128, 256, 512, 1024, 2048, 4096, 8192, 16384]\n"
     ]
    }
   ],
   "source": [
    "# visualizzato come lista invece\n",
    "numero = 2\n",
    "esponente = 0\n",
    "potenza = 1\n",
    "potenze = []\n",
    "\n",
    "while potenza < 25000:\n",
    "    potenze.append(potenza)\n",
    "    esponente += 1\n",
    "    potenza = numero ** esponente\n",
    "\n",
    "print(potenze)\n"
   ]
  },
  {
   "cell_type": "code",
   "execution_count": 36,
   "id": "583e55d1-2eab-4c89-aa64-c12c47940708",
   "metadata": {},
   "outputs": [
    {
     "name": "stdout",
     "output_type": "stream",
     "text": [
      "{32, 1, 2, 64, 4, 128, 256, 512, 8, 1024, 2048, 4096, 8192, 16, 16384}\n"
     ]
    }
   ],
   "source": [
    "# visualizzato come set\n",
    "\n",
    "numero = 2\n",
    "esponente = 0\n",
    "potenza = 1\n",
    "potenze = set()\n",
    "\n",
    "while potenza < 25000:\n",
    "    potenze.add(potenza)\n",
    "    esponente += 1\n",
    "    potenza = numero ** esponente\n",
    "\n",
    "print(potenze)"
   ]
  },
  {
   "cell_type": "code",
   "execution_count": 70,
   "id": "b635e876-f4c2-47e4-92be-065272509f5a",
   "metadata": {},
   "outputs": [
    {
     "name": "stdout",
     "output_type": "stream",
     "text": [
      "Le liste hanno la stessa lunghezza.\n",
      "Lista corsi: ['Cybersecurity', 'Data Analyst', 'Backend', 'Frontend', 'Data Analyst', 'Backend', 'Frontend', 'Cybersecurity']\n"
     ]
    }
   ],
   "source": [
    "\"\"\" Esercizio 5 (1/2) \n",
    "Abbiamo due liste, una di studenti e una di corsi: \n",
    "studenti = [\"Alex\", \"Bob\", \"Cindy\", \"Dan\", \"Emma\", \"Faith\", \"Grace\", \"Henry\"] \n",
    "corsi = [\"Cybersecurity\", \"Data Analyst\", \"Backend\", \"Frontend\", \"Data Analyst\", \"Backend\"]\n",
    "\n",
    "Esercizio (2/2) \n",
    "Aggiungere i dati mancanti alla lista corsi, sapendo che \n",
    "Emma segue Data Analyst \n",
    "Faith segue Backend \n",
    "Grace segue Frontend \n",
    "Henry segue Cybersecurity \n",
    "Aggiungeremo i dati mancanti uno alla volta con il metodo per appendere in coda alle liste, poi verificheremo che sono della stessa lunghezza e se lo sono stamperemo la lista corsi. \n",
    "Se alcuni dati sono già presenti non vanno aggiunti di nuovo \"\"\"\n",
    "\n",
    "studenti = [\"Alex\", \"Bob\", \"Cindy\", \"Dan\", \"Emma\", \"Faith\", \"Grace\", \"Henry\"] \n",
    "corsi = [\"Cybersecurity\", \"Data Analyst\", \"Backend\", \"Frontend\", \"Data Analyst\", \"Backend\"]\n",
    "\n",
    "dati_mancanti = {\"Emma\": \"Data Analyst\", \"Faith\": \"Backend\", \"Grace\": \"Frontend\", \"Henry\": \"Cybersecurity\"}\n",
    "\n",
    "# Assicurarsi che la lista corsi abbia la stessa lunghezza della lista studenti\n",
    "while len(corsi) < len(studenti):\n",
    "    corsi.append(None)\n",
    "\n",
    "# Aggiunta dei dati mancanti nelle posizioni corrette\n",
    "for studente, corso in mancanti.items():\n",
    "    indice_studente = studenti.index(studente)\n",
    "    if corsi[indice_studente] is None:  # Aggiungi solo se la posizione è vuota\n",
    "        corsi[indice_studente] = corso\n",
    "\n",
    "\n",
    "if len(studenti) == len(corsi):\n",
    "    print(\"Le liste hanno la stessa lunghezza.\")\n",
    "    print(\"Lista corsi:\", corsi)\n",
    "else:\n",
    "    print(\"Le liste Non hanno la stessa lunghezza.\")\n"
   ]
  },
  {
   "cell_type": "code",
   "execution_count": 335,
   "id": "c41d739d-324c-4843-bc52-cace4ee36912",
   "metadata": {},
   "outputs": [
    {
     "data": {
      "text/plain": [
       "['Alex', 'Bob', 'Cindy', 'Dan', 'Emma', 'Faith', 'Grace', 'Henry']"
      ]
     },
     "execution_count": 335,
     "metadata": {},
     "output_type": "execute_result"
    }
   ],
   "source": [
    "studenti"
   ]
  },
  {
   "cell_type": "code",
   "execution_count": 337,
   "id": "8397dcdf-86bd-4503-bdd5-6c7a142b5e69",
   "metadata": {},
   "outputs": [
    {
     "data": {
      "text/plain": [
       "['Cybersecurity',\n",
       " 'Data Analyst',\n",
       " 'Backend',\n",
       " 'Frontend',\n",
       " 'Data Analyst',\n",
       " 'Backend',\n",
       " 'Frontend',\n",
       " 'Cybersecurity']"
      ]
     },
     "execution_count": 337,
     "metadata": {},
     "output_type": "execute_result"
    }
   ],
   "source": [
    "corsi"
   ]
  },
  {
   "cell_type": "code",
   "execution_count": 62,
   "id": "200ea9ff-8f6e-4f12-a3c1-80fe8fc92380",
   "metadata": {},
   "outputs": [
    {
     "name": "stdout",
     "output_type": "stream",
     "text": [
      "Le liste hanno la stessa lunghezza.\n",
      "Lista corsi: ['Cybersecurity', 'Data Analyst', 'Backend', 'Frontend', 'Data Analyst', 'Backend', 'Frontend', 'Cybersecurity']\n"
     ]
    }
   ],
   "source": [
    "studenti = [\"Alex\", \"Bob\", \"Cindy\", \"Dan\", \"Emma\", \"Faith\", \"Grace\", \"Henry\"] \n",
    "corsi = [\"Cybersecurity\", \"Data Analyst\", \"Backend\", \"Frontend\", \"Data Analyst\", \"Backend\"]\n",
    "def aggiungi_corso(studente,corso, studenti, corsi):\n",
    "    indice_studente = studenti.index(studente)\n",
    "    if len(corsi) <= indice_studente:\n",
    "        corsi.append(corso)\n",
    "    elif corsi[indice_studente] != corso:\n",
    "        corsi.append(corso)\n",
    "\n",
    "studenti_corsi = {\n",
    "    \"Emma\": \"Data Analyst\",\n",
    "    \"Faith\": \"Backend\",\n",
    "    \"Grace\": \"Frontend\",\n",
    "    \"Henry\": \"Cybersecurity\"\n",
    "}\n",
    "\n",
    "for studente, corso in studenti_corsi.items():\n",
    "    if studente in studenti:\n",
    "        indice_studente = studenti.index(studente)\n",
    "        # Verifica se l'indice è valido e se il corso non è già presente\n",
    "        if len(corsi) <= indice_studente:\n",
    "            corsi.append(corso)\n",
    "        elif corsi[indice_studente] != corso:\n",
    "            corsi.append(corso)\n",
    "\n",
    "if len(studenti) == len(corsi):\n",
    "    print(\"Le liste hanno la stessa lunghezza.\")\n",
    "    print(\"Lista corsi:\", corsi)\n",
    "else:\n",
    "    print(\"Le liste NON hanno la stessa lunghezza.\")"
   ]
  },
  {
   "cell_type": "code",
   "execution_count": 72,
   "id": "c4987c7a-5aa6-407d-88ed-6a14b1c9c733",
   "metadata": {},
   "outputs": [
    {
     "name": "stdin",
     "output_type": "stream",
     "text": [
      "Inserisci una stringa:  stres\n"
     ]
    },
    {
     "name": "stdout",
     "output_type": "stream",
     "text": [
      "str...\n"
     ]
    }
   ],
   "source": [
    "\"\"\" Esercizio 6\n",
    "Scriviamo un programma che chiede in input all'utente una stringa e visualizza i primi 3 caratteri, \n",
    "seguiti da 3 punti di sospensione e quindi gli ultimi 3 caratteri, similmente all'esercizio della lezione scorsa. \n",
    "Stavolta facciamo attenzione a tutti i casi particolari, ovvero implementare soluzioni ad hoc per stringhe di lunghezza inferiore a 6 caratteri.\n",
    "\"\"\"\n",
    "stringa = input(\"Inserisci una stringa: \")\n",
    "lunghezza = len(stringa)\n",
    "\n",
    "if lunghezza < 3:\n",
    "    print(stringa)  # Se la stringa ha meno di 3 caratteri, la stampiamo così com'è\n",
    "elif lunghezza < 6:\n",
    "    print(stringa[:3] + \"...\")  # Se ha tra 3 e 5 caratteri, stampiamo solo i primi 3 seguiti da \"...\"\n",
    "else:\n",
    "    print(stringa[:3] + \"...\" + stringa[-3:])  # Se ha 6 o più caratteri, stampiamo primo 3, \"...\" e ultimi 3"
   ]
  },
  {
   "cell_type": "code",
   "execution_count": 84,
   "id": "b588380c-4f88-4312-930b-7f3a7c0f5219",
   "metadata": {},
   "outputs": [
    {
     "name": "stdin",
     "output_type": "stream",
     "text": [
      "Inserisci una stringa:  tronca\n"
     ]
    },
    {
     "name": "stdout",
     "output_type": "stream",
     "text": [
      "tro...nca\n"
     ]
    }
   ],
   "source": [
    "# 2\n",
    "def tronca_stringa(stringa):\n",
    "    \"\"\"\n",
    "    Tronca una stringa, visualizzando i primi 3 e gli ultimi 3 caratteri,\n",
    "    con ... nel mezzo. Gestisce casi particolari per stringhe corte.\n",
    "    \"\"\"\n",
    "    lunghezza = len(stringa)\n",
    "\n",
    "    if lunghezza <= 3:\n",
    "        return stringa  # Restituisci la stringa originale se troppo corta\n",
    "    elif lunghezza < 6:\n",
    "        inizio = stringa[:3]\n",
    "        return inizio + \"...\"\n",
    "    else:\n",
    "        inizio = stringa[:3]\n",
    "        fine = stringa[-3:]\n",
    "        return inizio + \"...\" + fine\n",
    "        \n",
    "# Esempio di utilizzo\n",
    "stringa_utente = input(\"Inserisci una stringa: \")\n",
    "risultato = tronca_stringa(stringa_utente)\n",
    "print(risultato)"
   ]
  },
  {
   "cell_type": "code",
   "execution_count": 92,
   "id": "4523b9e6-a939-49ed-8e50-ee00b93c6a23",
   "metadata": {},
   "outputs": [
    {
     "name": "stdin",
     "output_type": "stream",
     "text": [
      "input:  150\n"
     ]
    },
    {
     "name": "stdout",
     "output_type": "stream",
     "text": [
      "output: [1, 2, 3, 5, 6, 10, 15, 25, 30, 50, 75, 150]\n"
     ]
    }
   ],
   "source": [
    "\"\"\" Esercizio 7\n",
    "Memorizza e stampa tutti i fattori di un numero dato in input. \n",
    "Esempio: \n",
    "• input: 150 \n",
    "• output: [2, 3, 5, 5]\n",
    "\"\"\"\n",
    "def find_factors(number):\n",
    "    factors = [i for i in range(1, number + 1) if number % i == 0]\n",
    "    return factors\n",
    "\n",
    "number = int(input(\"input: \"))\n",
    "\n",
    "all_factors = find_factors(number)\n",
    "print(\"output:\", all_factors)"
   ]
  },
  {
   "cell_type": "code",
   "execution_count": 108,
   "id": "5a16c517-64ad-4677-94b8-0a47ebbe427f",
   "metadata": {},
   "outputs": [
    {
     "name": "stdin",
     "output_type": "stream",
     "text": [
      "input:  150\n"
     ]
    },
    {
     "name": "stdout",
     "output_type": "stream",
     "text": [
      "output:  [1, 2, 3, 5, 6, 10, 15, 25, 30, 50, 75, 150]\n"
     ]
    }
   ],
   "source": [
    "def find_factors(number):\n",
    "    factors = []\n",
    "    for i in range(1, number + 1):\n",
    "        if number % i == 0:\n",
    "            factors.append(i)\n",
    "    return factors\n",
    "\n",
    "try:\n",
    "    number = int(input(\"input: \"))\n",
    "    if number <= 0:\n",
    "        print(\"Inserisci un numero intero positivo.\")\n",
    "    else:\n",
    "        allFactors = find_factors(number)\n",
    "        print(\"output: \", allFactors)\n",
    "except ValueError:\n",
    "    print(\"Input non valido. Devi inserire un numero intero.\")"
   ]
  },
  {
   "cell_type": "code",
   "execution_count": 2,
   "id": "7df751cb-d033-4621-ab61-01511acd66da",
   "metadata": {},
   "outputs": [
    {
     "name": "stdin",
     "output_type": "stream",
     "text": [
      "Inserisci un numero intero positivo:  5\n"
     ]
    },
    {
     "name": "stdout",
     "output_type": "stream",
     "text": [
      "I fattori primi di 5 sono: [5]\n"
     ]
    }
   ],
   "source": [
    "#Varianta coretta con numeri primi\n",
    "def trova_fattori_primi(numero):\n",
    "#Trova e restituisce una lista di tutti i fattori primi del numero dato.\n",
    "\n",
    "    fattori_primi = []\n",
    "    divisore = 2\n",
    "\n",
    "    while divisore <= numero:\n",
    "        if numero % divisore == 0:\n",
    "            fattori_primi.append(divisore)\n",
    "            numero //= divisore  # Dividi il numero per il divisore\n",
    "        else:\n",
    "            divisore += 1\n",
    "\n",
    "    return fattori_primi\n",
    "\n",
    "# Richiedi il numero all'utente\n",
    "try:\n",
    "    numero_utente = int(input(\"Inserisci un numero intero positivo: \"))\n",
    "    if numero_utente <= 0:\n",
    "        print(\"Inserisci un numero intero positivo.\")\n",
    "    else:\n",
    "        fattori_trovati = trova_fattori_primi(numero_utente)\n",
    "        print(f\"I fattori primi di {numero_utente} sono: {fattori_trovati}\")\n",
    "except ValueError:\n",
    "    print(\"Input non valido. Devi inserire un numero intero.\")\n"
   ]
  },
  {
   "cell_type": "code",
   "execution_count": 346,
   "id": "0b05cf7d-e95c-4936-b353-911cacfe0549",
   "metadata": {},
   "outputs": [
    {
     "name": "stdin",
     "output_type": "stream",
     "text": [
      "Inserisci un numero intero positivo:  250\n"
     ]
    },
    {
     "name": "stdout",
     "output_type": "stream",
     "text": [
      "I fattori primi di 250 sono: [2, 5, 5, 5]\n"
     ]
    }
   ],
   "source": [
    "def trova_fattori_primi(numero):\n",
    "\n",
    "#Trova e restituisce una lista di tutti i fattori primi del numero dato.\n",
    "\n",
    "    fattori_primi = []\n",
    "    divisore = 2\n",
    "\n",
    "    while divisore <= numero:\n",
    "        if numero % divisore == 0:\n",
    "            fattori_primi.append(divisore)\n",
    "            numero //= divisore  # Dividi il numero per il divisore\n",
    "        else:\n",
    "            divisore += 1\n",
    "\n",
    "    return fattori_primi\n",
    "\n",
    "# Richiedi il numero all'utente\n",
    "try:\n",
    "    numero_utente = int(input(\"Inserisci un numero intero positivo: \"))\n",
    "    if numero_utente <= 0:\n",
    "        print(\"Inserisci un numero intero positivo.\")\n",
    "    else:\n",
    "        fattori_trovati = trova_fattori_primi(numero_utente)\n",
    "        print(f\"I fattori primi di {numero_utente} sono: {fattori_trovati}\")\n",
    "except ValueError:\n",
    "    print(\"Input non valido. Devi inserire un numero intero.\")"
   ]
  },
  {
   "cell_type": "code",
   "execution_count": 348,
   "id": "7538a1f7-e296-482b-b743-ee6333c1c126",
   "metadata": {},
   "outputs": [
    {
     "name": "stdout",
     "output_type": "stream",
     "text": [
      "[2, 3, 5, 5]\n"
     ]
    }
   ],
   "source": [
    "numero = 150 #init\n",
    "divisore = 2 #init\n",
    "fattori = [] #init\n",
    "\n",
    "while numero > 1:\n",
    "    resto = numero % divisore\n",
    "    if resto == 0:\n",
    "        numero /= divisore\n",
    "        fattori.append(divisore)\n",
    "    else:\n",
    "        divisore += 1\n",
    "\n",
    "print(fattori)"
   ]
  },
  {
   "cell_type": "code",
   "execution_count": 140,
   "id": "644eb17f-cb2b-4d85-a205-2a1fbb926814",
   "metadata": {},
   "outputs": [
    {
     "name": "stdout",
     "output_type": "stream",
     "text": [
      "E\n",
      "p\n",
      "i\n",
      "c\n",
      "o\n",
      "d\n",
      "e\n"
     ]
    }
   ],
   "source": [
    "\"\"\" Esercizio 8\n",
    "Abbiamo la stringa: \n",
    "nome_scuola = \"Epicode\" \n",
    "Stampare ogni carattere della stringa, uno su ogni riga, utilizzando un costrutto for.\n",
    "\"\"\"\n",
    "\n",
    "nome_scuola = \"Epicode\"\n",
    "for char in nome_scuola:\n",
    "    print(char)"
   ]
  },
  {
   "cell_type": "code",
   "execution_count": 142,
   "id": "525e9585-9478-4f36-ad79-4deb493b332a",
   "metadata": {},
   "outputs": [
    {
     "name": "stdout",
     "output_type": "stream",
     "text": [
      "E\n",
      "p\n",
      "i\n",
      "c\n",
      "o\n",
      "d\n",
      "e\n"
     ]
    }
   ],
   "source": [
    "for i in range(len(nome_scuola)):\n",
    "    print(nome_scuola[i])"
   ]
  },
  {
   "cell_type": "code",
   "execution_count": 144,
   "id": "6ede9416-d269-444d-80cd-54cee8b0b974",
   "metadata": {},
   "outputs": [
    {
     "name": "stdout",
     "output_type": "stream",
     "text": [
      "E\n",
      "p\n",
      "i\n",
      "c\n",
      "o\n",
      "d\n",
      "e\n"
     ]
    }
   ],
   "source": [
    "for indice, carattere in enumerate(nome_scuola):\n",
    "    print(carattere)"
   ]
  },
  {
   "cell_type": "code",
   "execution_count": 146,
   "id": "e6b73b3e-0fee-435d-91fd-328a822af0f2",
   "metadata": {},
   "outputs": [
    {
     "name": "stdout",
     "output_type": "stream",
     "text": [
      "E\n",
      "p\n",
      "i\n",
      "c\n",
      "o\n",
      "d\n",
      "e\n"
     ]
    },
    {
     "data": {
      "text/plain": [
       "[None, None, None, None, None, None, None]"
      ]
     },
     "execution_count": 146,
     "metadata": {},
     "output_type": "execute_result"
    }
   ],
   "source": [
    "[print(carattere) for carattere in nome_scuola]"
   ]
  },
  {
   "cell_type": "code",
   "execution_count": 152,
   "id": "9fd687d1-ecad-4fd2-bf18-da0b997e10d1",
   "metadata": {},
   "outputs": [
    {
     "name": "stdout",
     "output_type": "stream",
     "text": [
      "2^0 = 1\n",
      "2^1 = 2\n",
      "2^2 = 4\n",
      "2^3 = 8\n",
      "2^4 = 16\n",
      "2^5 = 32\n",
      "2^6 = 64\n",
      "2^7 = 128\n",
      "2^8 = 256\n",
      "2^9 = 512\n"
     ]
    }
   ],
   "source": [
    "\"\"\"Esercizio 9\n",
    "Calcolare e stampare tutte le prime 10 potenze di 2 utilizzando un ciclo. \n",
    "Utilizzeremo: \n",
    "• un ciclo per generare i primi 10 numeri, e.g.: \n",
    "\n",
    "range_numerico = list()  # init \n",
    "num = 1  # init \n",
    "while num <= 10: \n",
    "    range_numerico.append(num) \n",
    "    num += 1\n",
    "\"\"\"\n",
    "range_numerico = list() #init\n",
    "num = 1 #init\n",
    "\n",
    "#genera una lista di numeri da 1 a 10\n",
    "while num <= 10:\n",
    "    range_numerico.append(num)\n",
    "    num += 1\n",
    "\n",
    "#calcola e stampa le potenze di 2\n",
    "for numero in range_numerico:\n",
    "    potenza = 2 ** (numero - 1)\n",
    "    print(f\"2^{numero - 1} = {potenza}\")"
   ]
  },
  {
   "cell_type": "code",
   "execution_count": 154,
   "id": "ba9c5d0a-e8a2-4bda-b62d-6ffe42aee7f9",
   "metadata": {},
   "outputs": [
    {
     "name": "stdout",
     "output_type": "stream",
     "text": [
      "2^0 = 1\n",
      "2^1 = 2\n",
      "2^2 = 4\n",
      "2^3 = 8\n",
      "2^4 = 16\n",
      "2^5 = 32\n",
      "2^6 = 64\n",
      "2^7 = 128\n",
      "2^8 = 256\n",
      "2^9 = 512\n"
     ]
    }
   ],
   "source": [
    "#2\n",
    "for numero in range(10):\n",
    "    potenza = 2 ** numero\n",
    "    print(f\"2^{numero} = {potenza}\")"
   ]
  },
  {
   "cell_type": "code",
   "execution_count": 162,
   "id": "086a890f-d81d-45bb-87e0-eb14e5a3cb50",
   "metadata": {},
   "outputs": [
    {
     "name": "stdout",
     "output_type": "stream",
     "text": [
      "2^0 = 1\n",
      "2^1 = 2\n",
      "2^2 = 4\n",
      "2^3 = 8\n",
      "2^4 = 16\n",
      "2^5 = 32\n",
      "2^6 = 64\n",
      "2^7 = 128\n",
      "2^8 = 256\n",
      "2^9 = 512\n"
     ]
    }
   ],
   "source": [
    "#3\n",
    "def potenze_di_2(n):\n",
    "    for numero in range(n):\n",
    "        yield 2 ** numero\n",
    "\n",
    "for indice, potenza in enumerate(potenze_di_2(10)):\n",
    "    print(f\"2^{indice} = {potenza}\")"
   ]
  },
  {
   "cell_type": "code",
   "execution_count": 168,
   "id": "5e4798c9-7e5d-4dee-b38a-58b8231c52a4",
   "metadata": {},
   "outputs": [
    {
     "name": "stdout",
     "output_type": "stream",
     "text": [
      "2^0 = 1\n",
      "2^1 = 2\n",
      "2^2 = 4\n",
      "2^3 = 8\n",
      "2^4 = 16\n",
      "2^5 = 32\n",
      "2^6 = 64\n",
      "2^7 = 128\n",
      "2^8 = 256\n",
      "2^9 = 512\n"
     ]
    }
   ],
   "source": [
    "#4\n",
    "numero = 0\n",
    "while numero < 10:\n",
    "    potenza = 2 ** numero\n",
    "    print(f\"2^{numero} = {potenza}\")\n",
    "    numero += 1"
   ]
  },
  {
   "cell_type": "code",
   "execution_count": 170,
   "id": "2f35c5bc-df27-46e6-a722-7b108cdcebe0",
   "metadata": {},
   "outputs": [
    {
     "name": "stdout",
     "output_type": "stream",
     "text": [
      "2^0 = 1\n",
      "2^1 = 2\n",
      "2^2 = 4\n",
      "2^3 = 8\n",
      "2^4 = 16\n",
      "2^5 = 32\n",
      "2^6 = 64\n",
      "2^7 = 128\n",
      "2^8 = 256\n",
      "2^9 = 512\n"
     ]
    }
   ],
   "source": [
    "#5\n",
    "for numero in range(10):\n",
    "    potenza = pow(2, numero)\n",
    "    print(f\"2^{numero} = {potenza}\")"
   ]
  },
  {
   "cell_type": "code",
   "execution_count": 174,
   "id": "bfdce5ba-6d17-4dfb-8281-39b54f631d5c",
   "metadata": {},
   "outputs": [
    {
     "name": "stdin",
     "output_type": "stream",
     "text": [
      "Input K:  5\n",
      "Input N:  9\n"
     ]
    },
    {
     "name": "stdout",
     "output_type": "stream",
     "text": [
      "While version: [1, 5, 25, 125, 625, 3125, 15625, 78125, 390625]\n",
      "For version: [1, 5, 25, 125, 625, 3125, 15625, 78125, 390625]\n"
     ]
    }
   ],
   "source": [
    "\"\"\"Esercizio 10\n",
    "Calcolare (ma non stampare) le prime N potenze di K; ognuna di esse andrà memorizzata in coda a una lista. \n",
    "Alla fine, stampare la lista risultante. \n",
    "Proviamo con diversi valori di K, oppure facciamola inserire all'utente. \n",
    "\n",
    "Realizzare due versioni: \n",
    "• con un ciclo while, \n",
    "• con un ciclo for.\n",
    "\"\"\"\n",
    "def potenze_while(K, N):\n",
    "    potenze = []\n",
    "    i = 0\n",
    "    while i < N:\n",
    "        potenze.append(K ** i)\n",
    "        i += 1\n",
    "    return potenze\n",
    "\n",
    "def potenze_for(K, N):\n",
    "    potenze = [K ** i for i in range(N)]\n",
    "    return potenze\n",
    "\n",
    "K = int(input(\"Input K: \"))\n",
    "N = int(input(\"Input N: \"))\n",
    "\n",
    "print(\"While version:\", potenze_while(K, N))\n",
    "print(\"For version:\", potenze_for(K, N))"
   ]
  },
  {
   "cell_type": "code",
   "execution_count": 351,
   "id": "ab4cbb99-55c2-49f7-970a-0ad9a9224576",
   "metadata": {},
   "outputs": [
    {
     "name": "stdin",
     "output_type": "stream",
     "text": [
      "Inserisci N 9\n",
      "Inserisci K 5\n"
     ]
    },
    {
     "name": "stdout",
     "output_type": "stream",
     "text": [
      "5^1 = 5\n",
      "5^2 = 25\n",
      "5^3 = 125\n",
      "5^4 = 625\n",
      "5^5 = 3125\n",
      "5^6 = 15625\n",
      "5^7 = 78125\n",
      "5^8 = 390625\n",
      "5^9 = 1953125\n",
      "Finito\n"
     ]
    }
   ],
   "source": [
    "# Inizializzazione\n",
    "esponente = 1\n",
    "N = input(\"Inserisci N\")\n",
    "N = int(N) #casting\n",
    "K = input(\"Inserisci K\")\n",
    "K = int(K) #casting\n",
    "\n",
    "while esponente <= N: #condizione\n",
    "    potenza = K ** esponente\n",
    "    print(f\"{K}^{esponente} = {potenza}\")\n",
    "    esponente += 1 #aggiornamento\n",
    "\n",
    "print(\"Finito\")\n"
   ]
  },
  {
   "cell_type": "code",
   "execution_count": 353,
   "id": "5856f64b-4e16-41d5-b198-b782a21a5230",
   "metadata": {},
   "outputs": [
    {
     "name": "stdout",
     "output_type": "stream",
     "text": [
      "La media dei guadagni e: 70.0\n"
     ]
    }
   ],
   "source": [
    "\"\"\"Esercizio 11\n",
    "Abbiamo una lista con i guadagni degli ultimi 12 mesi: \n",
    "\n",
    "guadagni = [100, 90, 70, 40, 50, 80, 90, 120, 80, 20, 50, 50] \n",
    "\n",
    "usando un costrutto for, calcolare la media dei guadagni e stamparla a video.\n",
    "\"\"\"\n",
    "\n",
    "guadagni = [100, 90, 70, 40, 50, 80, 90, 120, 80, 20, 50, 50] \n",
    "\n",
    "#init\n",
    "somma_guadagni = 0\n",
    "for guadagno in guadagni:\n",
    "    somma_guadagni += guadagno\n",
    "\n",
    "media_guadagni = somma_guadagni / len(guadagni) #840 /12\n",
    "\n",
    "print(f\"La media dei guadagni e: {media_guadagni}\") "
   ]
  },
  {
   "cell_type": "code",
   "execution_count": 180,
   "id": "a3280ec4-6b85-4ea0-bb21-80dba0265f64",
   "metadata": {},
   "outputs": [
    {
     "name": "stdout",
     "output_type": "stream",
     "text": [
      "Media guadagni e: 70.0\n"
     ]
    }
   ],
   "source": [
    "media_guadagni = sum(guadagni) / len(guadagni)\n",
    "\n",
    "print(f\"Media guadagni e:\", media_guadagni)"
   ]
  },
  {
   "cell_type": "code",
   "execution_count": 182,
   "id": "932d08c3-c66a-4d3b-b2f9-284c07a94376",
   "metadata": {},
   "outputs": [
    {
     "name": "stdout",
     "output_type": "stream",
     "text": [
      "La media dei guadagni e : 70\n"
     ]
    }
   ],
   "source": [
    "import statistics\n",
    "\n",
    "media_guadagni = statistics.mean(guadagni)\n",
    "print(f\"La media dei guadagni e : {media_guadagni}\")"
   ]
  },
  {
   "cell_type": "code",
   "execution_count": 190,
   "id": "3303d9fe-398e-4cba-90be-56293a13e75a",
   "metadata": {},
   "outputs": [
    {
     "name": "stdout",
     "output_type": "stream",
     "text": [
      "La parola 'Albergo' contiene la lettera 'e' 1 volte\n",
      "La parola 'Sedia' contiene la lettera 'e' 1 volte\n",
      "La parola 'Borgo' contiene la lettera 'e' 0 volte\n",
      "La parola 'Petalo' contiene la lettera 'e' 1 volte\n",
      "La parola 'Eremo' contiene la lettera 'e' 2 volte\n",
      "La parola 'Belvedere' contiene la lettera 'e' 4 volte\n",
      "La parola 'Semestre' contiene la lettera 'e' 3 volte\n",
      "La parola 'Esteta' contiene la lettera 'e' 2 volte\n",
      "La parola 'Sosta' contiene la lettera 'e' 0 volte\n",
      "La parola 'Orpello' contiene la lettera 'e' 1 volte\n",
      "La parola 'Abete' contiene la lettera 'e' 2 volte\n",
      "La parola 'Orologio' contiene la lettera 'e' 0 volte\n",
      "La parola 'Cesta' contiene la lettera 'e' 1 volte\n",
      "La parola 'Ermellino' contiene la lettera 'e' 2 volte\n"
     ]
    }
   ],
   "source": [
    "\"\"\" Esercizio 12\n",
    "Abbiamo una lista di parole: \n",
    "\n",
    "parole = [\"Albergo\", \"Sedia\", \"Borgo\", \"Petalo\", \"Eremo\", \"Belvedere\", \"Semestre\", \"Esteta\", \"Sosta\", \"Orpello\", \"Abete\", \"Orologio\", \"Cesta\", \"Ermellino\"] \n",
    "\n",
    "stampiamo, per ogni parola, quante volte appare la lettera \"e\"; facciamo attenzione al fatto che appare sia maiuscola che minuscola.\n",
    "\"\"\"\n",
    "\n",
    "parole = [\"Albergo\", \"Sedia\", \"Borgo\", \"Petalo\", \"Eremo\", \"Belvedere\", \"Semestre\", \"Esteta\", \"Sosta\", \"Orpello\", \"Abete\", \"Orologio\", \"Cesta\", \"Ermellino\"] \n",
    "\n",
    "for parola in parole:\n",
    "    conteggio_lettera_e = 0\n",
    "    for char in parola:\n",
    "        if char.lower() == \"e\":\n",
    "            conteggio_lettera_e += 1\n",
    "    print(f\"La parola '{parola}' contiene la lettera 'e' {conteggio_lettera_e} volte\")"
   ]
  },
  {
   "cell_type": "code",
   "execution_count": 192,
   "id": "6b251664-453f-4839-adea-191274b5b87b",
   "metadata": {},
   "outputs": [
    {
     "name": "stdout",
     "output_type": "stream",
     "text": [
      "La parola 'Albergo' contiene la lettera 'e' 1 volte\n",
      "La parola 'Sedia' contiene la lettera 'e' 1 volte\n",
      "La parola 'Borgo' contiene la lettera 'e' 0 volte\n",
      "La parola 'Petalo' contiene la lettera 'e' 1 volte\n",
      "La parola 'Eremo' contiene la lettera 'e' 2 volte\n",
      "La parola 'Belvedere' contiene la lettera 'e' 4 volte\n",
      "La parola 'Semestre' contiene la lettera 'e' 3 volte\n",
      "La parola 'Esteta' contiene la lettera 'e' 2 volte\n",
      "La parola 'Sosta' contiene la lettera 'e' 0 volte\n",
      "La parola 'Orpello' contiene la lettera 'e' 1 volte\n",
      "La parola 'Abete' contiene la lettera 'e' 2 volte\n",
      "La parola 'Orologio' contiene la lettera 'e' 0 volte\n",
      "La parola 'Cesta' contiene la lettera 'e' 1 volte\n",
      "La parola 'Ermellino' contiene la lettera 'e' 2 volte\n"
     ]
    }
   ],
   "source": [
    "for parola in parole:\n",
    "    conteggio_lettera_e = parola.lower().count('e')\n",
    "    print(f\"La parola '{parola}' contiene la lettera 'e' {conteggio_lettera_e} volte\")"
   ]
  },
  {
   "cell_type": "code",
   "execution_count": 200,
   "id": "bbb0df86-5a4f-4b8c-a546-5832b81fe2c5",
   "metadata": {},
   "outputs": [
    {
     "name": "stdout",
     "output_type": "stream",
     "text": [
      "Dizionario completo:\n",
      "{'Ada': 'Punto', 'Ben': 'Multipla', 'Charlie': 'Golf', 'Debbie': '107'}\n",
      "\n",
      "L'auto di Debbie e:\n",
      "107\n"
     ]
    }
   ],
   "source": [
    "\"\"\" Esercizio 13\n",
    "Creiamo un dizionario che assegni ad ogni proprietario la sua auto, sapendo che: \n",
    "• Ada guida una Punto \n",
    "• Ben guida una Multipla \n",
    "• Charlie guida una Golf \n",
    "• Debbie guida una 107 \n",
    "Stampiamo il dizionario per intero, e poi l'auto associata a Debbie.\n",
    "\"\"\"\n",
    "auto_proprietari = {\n",
    "    \"Ada\": \"Punto\",\n",
    "    \"Ben\": \"Multipla\",\n",
    "    \"Charlie\": \"Golf\",\n",
    "    \"Debbie\": \"107\"\n",
    "}\n",
    "print(\"Dizionario completo:\")\n",
    "print(auto_proprietari)\n",
    "\n",
    "print(\"\\nL'auto di Debbie e:\")\n",
    "print(auto_proprietari[\"Debbie\"])"
   ]
  },
  {
   "cell_type": "code",
   "execution_count": 206,
   "id": "deb26711-268f-436d-872c-f1f35b4fdd0f",
   "metadata": {},
   "outputs": [
    {
     "name": "stdout",
     "output_type": "stream",
     "text": [
      "Punto\n",
      "Golf\n",
      "107\n"
     ]
    }
   ],
   "source": [
    "\"\"\"Esercizio 14\n",
    "Abbiamo un dizionario che assegna ad ogni proprietario la sua auto: \n",
    "\n",
    "dizionario_auto = {\"Ada\": \"Punto\", \"Ben\": \"Multipla\", \"Charlie\": \"Golf\", \"Debbie\": \"107\"} \n",
    "\n",
    "Con un ciclo, e usando il metodo .values(), stampiamo a video tutte le auto che non sono una Multipla.\n",
    "\"\"\"\n",
    "dizionario_auto = {\"Ada\": \"Punto\", \"Ben\": \"Multipla\", \"Charlie\": \"Golf\", \"Debbie\": \"107\"} \n",
    "\n",
    "for auto in dizionario_auto.values():\n",
    "    if auto != \"Multipla\":\n",
    "        print(auto)"
   ]
  },
  {
   "cell_type": "code",
   "execution_count": 212,
   "id": "93a0fb81-9501-4061-9584-48e9c1261d7c",
   "metadata": {},
   "outputs": [
    {
     "name": "stdout",
     "output_type": "stream",
     "text": [
      "{'Ada': 'Punto', 'Ben': 'Polo', 'Charlie': 'Golf', 'Debbie': '107', 'Emily': 'A1', 'Fred': 'Octavia', 'Grace': 'Yaris', 'Hugh': 'Clio'}\n",
      "\n",
      "Cosa è successo a Ben?\n",
      "L'auto di Ben è stata aggiornata da 'Multipla' a 'Polo'.\n"
     ]
    }
   ],
   "source": [
    "\"\"\"Esercizio 15 \n",
    "Abbiamo due dizionari che assegnano ad ogni proprietario la propria auto: \n",
    "\n",
    "dizionario_auto = {\"Ada\": \"Punto\", \"Ben\": \"Multipla\", \"Charlie\": \"Golf\", \"Debbie\": \"107\", \"Emily\": \"A1\"} \n",
    "nuovi_proprietari = {\"Ben\": \"Polo\", \"Fred\": \"Octavia\", \"Grace\": \"Yaris\", \"Hugh\": \"Clio\"} \n",
    "\n",
    "Aggiornare il dizionario dizionario_auto con i dati contenuti in nuovi_proprietari e stamparlo. Cosa è successo a Ben?\n",
    "\"\"\"\n",
    "\n",
    "dizionario_auto = {\"Ada\": \"Punto\", \"Ben\": \"Multipla\", \"Charlie\": \"Golf\", \"Debbie\": \"107\", \"Emily\": \"A1\"} \n",
    "nuovi_proprietari = {\"Ben\": \"Polo\", \"Fred\": \"Octavia\", \"Grace\": \"Yaris\", \"Hugh\": \"Clio\"} \n",
    "\n",
    "dizionario_auto.update(nuovi_proprietari)\n",
    "print(dizionario_auto)\n",
    "\n",
    "print(\"\\nCosa è successo a Ben?\")\n",
    "print(\"L'auto di Ben è stata aggiornata da 'Multipla' a 'Polo'.\")"
   ]
  },
  {
   "cell_type": "code",
   "execution_count": 218,
   "id": "bcb98299-c348-4c15-8f59-64b64c52e850",
   "metadata": {},
   "outputs": [
    {
     "name": "stdout",
     "output_type": "stream",
     "text": [
      "Osservando la sintassi dei dizionari, possiamo notare qualche affinità con il formato JSON?\n",
      "Il formato JSON e la sintassi dei dizionari in Python condividono molte somiglianze. Entrambi utilizzano coppie chiave-valore separate da virgole e racchiuse tra parentesi graffe per rappresentare oggetti, rendendo la struttura molto simile tra i due.In JSON, un oggetto è rappresentato come un insieme di coppie nome/valore, molto simile a un dizionario in Python. Entrambi i formati supportano anche strutture annidate, permettendo di rappresentare dati complessi e gerarchici.Inoltre, JSON può essere facilmente convertito in un dizionario Python utilizzando la funzione json.loads() del modulo json di Python, rendendo l'interfaccia tra i due formati molto fluida e semplice.JSON: formato di scambio di dati basato su un sottoinsieme del linguaggio JavaScript, utilizzato per archiviare e trasmettere informazioni tra sistemi web.Dizionari in Python: strutture dati che permettono di memorizzare coppie chiave-valore, utilizzate per rappresentare e manipolare dati complessi.\n"
     ]
    }
   ],
   "source": [
    "\"\"\"Esercizio 16\n",
    "Osservando la sintassi dei dizionari, possiamo notare qualche affinità con il formato JSON?\"\"\"\n",
    "\n",
    "print(\"Osservando la sintassi dei dizionari, possiamo notare qualche affinità con il formato JSON?\")\n",
    "print(\"Il formato JSON e la sintassi dei dizionari in Python condividono molte somiglianze. Entrambi utilizzano coppie chiave-valore separate da virgole e racchiuse tra parentesi graffe per rappresentare oggetti, rendendo la struttura molto simile tra i due.In JSON, un oggetto è rappresentato come un insieme di coppie nome/valore, molto simile a un dizionario in Python. Entrambi i formati supportano anche strutture annidate, permettendo di rappresentare dati complessi e gerarchici.Inoltre, JSON può essere facilmente convertito in un dizionario Python utilizzando la funzione json.loads() del modulo json di Python, rendendo l'interfaccia tra i due formati molto fluida e semplice.JSON: formato di scambio di dati basato su un sottoinsieme del linguaggio JavaScript, utilizzato per archiviare e trasmettere informazioni tra sistemi web.Dizionari in Python: strutture dati che permettono di memorizzare coppie chiave-valore, utilizzate per rappresentare e manipolare dati complessi.\")"
   ]
  },
  {
   "cell_type": "code",
   "execution_count": 220,
   "id": "ae089ae4-4ec1-4dd4-94bc-e5c1797891e9",
   "metadata": {},
   "outputs": [
    {
     "name": "stdout",
     "output_type": "stream",
     "text": [
      "Minimo: 1, Massimo: 9\n",
      "Minimo (lista vuota): None, Massimo (lista vuota): None\n"
     ]
    }
   ],
   "source": [
    "\"\"\"Esercizio 17\n",
    "Scrivere un programma che, data una lista di numeri, fornisca in output il minimo e il massimo (possiamo usare o meno le funzioni built-in min() e max()).\"\"\"\n",
    "\n",
    "#Version 1\n",
    "def trova_min_max(lista_numeri):\n",
    "    if not lista_numeri:\n",
    "        return None, None  # Gestisce il caso di lista vuota\n",
    "    minimo = min(lista_numeri)\n",
    "    massimo = max(lista_numeri)\n",
    "    return minimo, massimo\n",
    "\n",
    "# Esempio di utilizzo\n",
    "numeri = [5, 2, 9, 1, 5, 6]\n",
    "minimo, massimo = trova_min_max(numeri)\n",
    "print(f\"Minimo: {minimo}, Massimo: {massimo}\")\n",
    "\n",
    "# Esempio con lista vuota\n",
    "numeri_vuoti = []\n",
    "minimo_vuoto, massimo_vuoto = trova_min_max(numeri_vuoti)\n",
    "print(f\"Minimo (lista vuota): {minimo_vuoto}, Massimo (lista vuota): {massimo_vuoto}\")"
   ]
  },
  {
   "cell_type": "code",
   "execution_count": 253,
   "id": "cdacbeaa-9806-4168-9d2c-dd034f116a15",
   "metadata": {},
   "outputs": [
    {
     "name": "stdout",
     "output_type": "stream",
     "text": [
      "Minimo: 1, Massimo: 9\n",
      "Minimo (lista vuota): None, Massimo (lista vuota): None\n"
     ]
    }
   ],
   "source": [
    "#Version 2\n",
    "def trova_min_max_senza_builtin(lista_numeri):\n",
    "#Trova il minimo e il massimo di una lista di numeri senza utilizzare min() e max().\n",
    "  \n",
    "    if not lista_numeri:\n",
    "        return None, None  # Gestisce il caso di lista vuota\n",
    "    minimo = lista_numeri[0]\n",
    "    massimo = lista_numeri[0]\n",
    "    for numero in lista_numeri:\n",
    "        if numero < minimo:\n",
    "            minimo = numero\n",
    "        if numero > massimo:\n",
    "            massimo = numero\n",
    "    return minimo, massimo\n",
    "\n",
    "# Esempio di utilizzo\n",
    "numeri = [5, 2, 9, 1, 5, 6]\n",
    "minimo, massimo = trova_min_max_senza_builtin(numeri)\n",
    "print(f\"Minimo: {minimo}, Massimo: {massimo}\")\n",
    "\n",
    "# Esempio con lista vuota\n",
    "numeri_vuoti = []\n",
    "minimo_vuoto, massimo_vuoto = trova_min_max_senza_builtin(numeri_vuoti)\n",
    "print(f\"Minimo (lista vuota): {minimo_vuoto}, Massimo (lista vuota): {massimo_vuoto}\")"
   ]
  },
  {
   "cell_type": "code",
   "execution_count": 226,
   "id": "589acee6-0852-4be0-9bc5-cab498ce29cd",
   "metadata": {},
   "outputs": [
    {
     "name": "stdin",
     "output_type": "stream",
     "text": [
      "Quanti numeri vuoi inserire?  6\n",
      "Inserisci il numero 1:  2\n",
      "Inserisci il numero 2:  9\n",
      "Inserisci il numero 3:  56\n",
      "Inserisci il numero 4:  84\n",
      "Inserisci il numero 5:  51\n",
      "Inserisci il numero 6:  65\n"
     ]
    },
    {
     "name": "stdout",
     "output_type": "stream",
     "text": [
      "Minimo: 2.0, Massimo: 84.0\n"
     ]
    }
   ],
   "source": [
    "def trova_min_max_utente():\n",
    "    \n",
    "#Chiedere all'utente di inserire una lista di numeri e trova il minimo e il massimo.\n",
    "    \n",
    "    lista_numeri = []\n",
    "    try:\n",
    "        n = int(input(\"Quanti numeri vuoi inserire? \"))\n",
    "        for i in range(n):\n",
    "            numero = float(input(f\"Inserisci il numero {i + 1}: \"))\n",
    "            lista_numeri.append(numero)\n",
    "        if not lista_numeri:\n",
    "            return None, None\n",
    "        minimo = min(lista_numeri)\n",
    "        massimo = max(lista_numeri)\n",
    "        return minimo, massimo\n",
    "    except ValueError:\n",
    "        print(\"Input non valido. Devi inserire numeri.\")\n",
    "        return None, None\n",
    "        \n",
    "# Esempio di utilizzo\n",
    "minimo, massimo = trova_min_max_utente()\n",
    "if minimo is not None and massimo is not None:\n",
    "    print(f\"Minimo: {minimo}, Massimo: {massimo}\")"
   ]
  },
  {
   "cell_type": "code",
   "execution_count": 250,
   "id": "447b45ba-21cd-4353-87bb-ac69809d6a04",
   "metadata": {},
   "outputs": [
    {
     "name": "stdin",
     "output_type": "stream",
     "text": [
      "Quanti numeri vuoi inserire?  5\n",
      "Inserisci il numero 1:  5.12\n",
      "Inserisci il numero 2:  5.24\n",
      "Inserisci il numero 3:  5.85\n",
      "Inserisci il numero 4:  5.92\n",
      "Inserisci il numero 5:  5.21\n"
     ]
    },
    {
     "name": "stdout",
     "output_type": "stream",
     "text": [
      "Minimo: 5.12, Massimo: 5.92\n"
     ]
    }
   ],
   "source": [
    "def trova_min_max_utente_senza_builtin():\n",
    "#Chiede all'utente di inserire una lista di numeri e trova il minimo e il massimo senza min() e max().\n",
    "    lista_numeri = []\n",
    "    try:\n",
    "        n = int(input(\"Quanti numeri vuoi inserire? \"))\n",
    "        for i in range(n):\n",
    "            numero = float(input(f\"Inserisci il numero {i + 1}: \"))\n",
    "            lista_numeri.append(numero)\n",
    "        if not lista_numeri:\n",
    "            return None, None\n",
    "        minimo = lista_numeri[0]\n",
    "        massimo = lista_numeri[0]\n",
    "        for numero in lista_numeri:\n",
    "            if numero < minimo:\n",
    "                minimo = numero\n",
    "            if numero > massimo:\n",
    "                massimo = numero\n",
    "        return minimo, massimo\n",
    "    except ValueError:\n",
    "        print(\"Input non valido. Devi inserire numeri.\")\n",
    "        return None, None\n",
    "\n",
    "# Esempio di utilizzo\n",
    "minimo, massimo = trova_min_max_utente_senza_builtin()\n",
    "if minimo is not None and massimo is not None:\n",
    "    print(f\"Minimo: {minimo}, Massimo: {massimo}\")"
   ]
  },
  {
   "cell_type": "code",
   "execution_count": 258,
   "id": "7dd260e1-d496-4967-b129-11c0c2d9e3ba",
   "metadata": {},
   "outputs": [
    {
     "name": "stdout",
     "output_type": "stream",
     "text": [
      "I tre numeri più grandi in [1, 5, 2, 8, 3, 9, 6] sono: [9, 8, 6]\n",
      "I tre numeri più grandi in [1, 2] sono: [2, 1]\n",
      "I tre numeri più grandi in [5, 5, 5, 1, 2, 3] sono: [5, 5, 5]\n",
      "I tre numeri più grandi in [1, 2, 3, 4, 5, 6, 7, 8, 9, 9, 9] sono: [9, 9, 9]\n"
     ]
    }
   ],
   "source": [
    "\"\"\"Esercizio 18 \n",
    "Scrivere un programma che, data una lista di numeri, fornisca in output i tre numeri più grandi; \n",
    "gestire il caso in cui la lista sia più corta di tre, e quando uno o più dei numeri selezionati sono uguali.\n",
    "\"\"\"\n",
    "\n",
    "def trova_tre_piu_grandi(lista_numeri):\n",
    "    #Trova i tre numeri più grandi in una lista, gestendo casi particolari.\n",
    "    if len(lista_numeri) < 3:\n",
    "        return sorted(lista_numeri, reverse=True)  # Restituisce la lista ordinata se è troppo corta\n",
    "\n",
    "    tre_piu_grandi = sorted(lista_numeri[:3])  # Inizializza con i primi tre numeri\n",
    "\n",
    "    for numero in lista_numeri[3:]:\n",
    "        if numero > tre_piu_grandi[0]:\n",
    "            tre_piu_grandi[0] = numero\n",
    "            tre_piu_grandi.sort()  # Riordina la lista\n",
    "\n",
    "    return sorted(tre_piu_grandi, reverse=True)  # Restituisce la lista ordinata\n",
    "\n",
    "# Esempi di utilizzo\n",
    "numeri1 = [1, 5, 2, 8, 3, 9, 6]\n",
    "print(f\"I tre numeri più grandi in {numeri1} sono: {trova_tre_piu_grandi(numeri1)}\")\n",
    "\n",
    "numeri2 = [1, 2]\n",
    "print(f\"I tre numeri più grandi in {numeri2} sono: {trova_tre_piu_grandi(numeri2)}\")\n",
    "\n",
    "numeri3 = [5, 5, 5, 1, 2, 3]\n",
    "print(f\"I tre numeri più grandi in {numeri3} sono: {trova_tre_piu_grandi(numeri3)}\")\n",
    "\n",
    "numeri4 = [1, 2, 3, 4, 5, 6, 7, 8, 9, 9, 9]\n",
    "print(f\"I tre numeri più grandi in {numeri4} sono: {trova_tre_piu_grandi(numeri4)}\")\n",
    "        "
   ]
  },
  {
   "cell_type": "code",
   "execution_count": 277,
   "id": "ee7ef237-c210-45dc-a0dd-83dee8997deb",
   "metadata": {},
   "outputs": [
    {
     "name": "stdout",
     "output_type": "stream",
     "text": [
      "[100, 50, 25]\n",
      "Finito\n"
     ]
    }
   ],
   "source": [
    "#Variante 2\n",
    "def trova_tre_piu_grandi(lista_numeri):\n",
    "        if len(lista_numeri) < 3:\n",
    "            return \"La lista contiene meno di 3 numeri.\"\n",
    "        lista_ordinata = sorted(lista_numeri, reverse=True)\n",
    "        numeri_grandi = []\n",
    "        for numero in lista_ordinata:\n",
    "            if numero not in numeri_grandi:\n",
    "                numeri_grandi.append(numero)\n",
    "            if len(numeri_grandi) == 3:\n",
    "                break\n",
    "        if len(numeri_grandi) < 3:\n",
    "            return f\"Ci sono meno di 3 numeri unici nella lista. I numeri trovati sono: {numeri_grandi}\"\n",
    "\n",
    "        return numeri_grandi\n",
    "\n",
    "lista_numeri = [10, 25, 25, 5, 100, 50, 50]\n",
    "risultato = trova_tre_piu_grandi(lista_numeri)\n",
    "print(risultato)\n",
    "\n",
    "print(\"Finito\")\n",
    "        "
   ]
  },
  {
   "cell_type": "code",
   "execution_count": 295,
   "id": "6dfb6f11-1037-4820-8531-4260cb565e4d",
   "metadata": {},
   "outputs": [
    {
     "name": "stdin",
     "output_type": "stream",
     "text": [
      "Inserisci una lista di numeri separati da spazi:  12 5 84 75 65 12 5 41 4 98\n",
      "Inserisci il valore di K:  56\n"
     ]
    },
    {
     "name": "stdout",
     "output_type": "stream",
     "text": [
      "80.5\n"
     ]
    }
   ],
   "source": [
    "\"\"\"Esercizio 19\n",
    "Scrivere un programma che \n",
    "• in input acquisisce una lista di numeri e un numero K \n",
    "• in output, dovrà restituire la media di tutti i numeri nella lista maggiori o uguali a K \n",
    "• se non ce ne dovesse essere nessuno, dovrà stampare a schermo un messaggio adeguato.\n",
    "\"\"\"\n",
    "def media_numeri_maggiori_k(lista_numeri, k):\n",
    "#Calcola la media dei numeri in una lista maggiori o uguali a K.\n",
    "\n",
    "    numeri_validi = [numero for numero in lista_numeri if numero >= k]\n",
    "\n",
    "    if not numeri_validi:\n",
    "        return \"Nessun numero nella lista è maggiore o uguale a K.\"\n",
    "\n",
    "    media = sum(numeri_validi) / len(numeri_validi)\n",
    "    return media\n",
    "\n",
    "# Input dall'utente\n",
    "lista_input = input(\"Inserisci una lista di numeri separati da spazi: \")\n",
    "lista_numeri = [float(numero) for numero in lista_input.split()]\n",
    "\n",
    "k = float(input(\"Inserisci il valore di K: \"))\n",
    "\n",
    "# Calcolo e stampa della media\n",
    "risultato = media_numeri_maggiori_k(lista_numeri, k)\n",
    "print(risultato)\n"
   ]
  },
  {
   "cell_type": "code",
   "execution_count": 301,
   "id": "a46bbe32-7f42-4147-a6e7-ef0faf89a2d3",
   "metadata": {},
   "outputs": [
    {
     "name": "stdin",
     "output_type": "stream",
     "text": [
      "Inserisci una lista di numeri separati da spazi:  12 5 84 75 65 12 5 41 4 98\n",
      "Inserisci il valore di K:  56\n"
     ]
    },
    {
     "name": "stdout",
     "output_type": "stream",
     "text": [
      "80.5\n"
     ]
    }
   ],
   "source": [
    "#Variante 2\n",
    "def media_numeri_maggiori_k_for(lista_numeri, k):\n",
    "    numeri_validi = []\n",
    "    for numero in lista_numeri:\n",
    "        if numero >= k:\n",
    "            numeri_validi.append(numero)\n",
    "\n",
    "    if not numeri_validi:\n",
    "        return \"Nessun numero nella lista è maggiore o uguale a K.\"\n",
    "\n",
    "    media = sum(numeri_validi) / len(numeri_validi)\n",
    "    return media\n",
    "    \n",
    "# Input dall'utente\n",
    "lista_input = input(\"Inserisci una lista di numeri separati da spazi: \")\n",
    "lista_numeri = [float(numero) for numero in lista_input.split()]\n",
    "\n",
    "k = float(input(\"Inserisci il valore di K: \"))\n",
    "\n",
    "# Calcolo e stampa della media\n",
    "risultato = media_numeri_maggiori_k(lista_numeri, k)\n",
    "print(risultato)\n"
   ]
  },
  {
   "cell_type": "code",
   "execution_count": 313,
   "id": "1460ba6c-7587-4c33-9414-4f7010da7f74",
   "metadata": {},
   "outputs": [
    {
     "name": "stdin",
     "output_type": "stream",
     "text": [
      "Inserisci una lista di numeri separati da spazi:  12 5 84 75 65 12 5 41 4 98\n",
      "Inserisci il valore di K:  56\n"
     ]
    },
    {
     "name": "stdout",
     "output_type": "stream",
     "text": [
      "80.5\n"
     ]
    }
   ],
   "source": [
    "#Variante 3\n",
    "def media_numeri_maggiori_k_filter(lista_numeri, k):\n",
    "    numeri_validi = list(filter(lambda x: x >= k, lista_numeri))\n",
    "\n",
    "    if not numeri_validi:\n",
    "        return \"Nessun numero nella lista è maggiore o uguale a K.\"\n",
    "\n",
    "    media = sum(numeri_validi) / len(numeri_validi)\n",
    "    return media\n",
    "\n",
    "# Input dall'utente\n",
    "lista_input = input(\"Inserisci una lista di numeri separati da spazi: \")\n",
    "lista_numeri = [float(numero) for numero in lista_input.split()]\n",
    "\n",
    "k = float(input(\"Inserisci il valore di K: \"))\n",
    "\n",
    "# Calcolo e stampa della media\n",
    "risultato = media_numeri_maggiori_k_filter(lista_numeri, k)\n",
    "print(risultato)\n"
   ]
  },
  {
   "cell_type": "code",
   "execution_count": 321,
   "id": "9055bac6-83c1-4bcf-9abd-44cf0550ec64",
   "metadata": {},
   "outputs": [
    {
     "name": "stdout",
     "output_type": "stream",
     "text": [
      "Lista: [1, 5, 2, 8, 3, 9, 6], K: 5, Media: 7.0\n",
      "Lista: [1, 2, 3, 4], K: 5, Media: Nessun numero nella lista è maggiore o uguale a K.\n",
      "Lista: [10, 20, 30, 40, 50], K: 25, Media: 40.0\n",
      "Lista: [2, 4, 6, 8], K: 10, Media: Nessun numero nella lista è maggiore o uguale a K.\n"
     ]
    }
   ],
   "source": [
    "#Variante 4\n",
    "def genera_numeri_validi(lista_numeri, k):\n",
    "    for numero in lista_numeri:\n",
    "        if numero >= k:\n",
    "            yield numero\n",
    "\n",
    "def media_numeri_maggiori_k_generatore(lista_numeri, k):\n",
    "    numeri_validi = list(genera_numeri_validi(lista_numeri, k))\n",
    "\n",
    "    if not numeri_validi:\n",
    "        return \"Nessun numero nella lista è maggiore o uguale a K.\"\n",
    "\n",
    "    media = sum(numeri_validi) / len(numeri_validi)\n",
    "    return media\n",
    "    \n",
    "# Esempi di utilizzo\n",
    "lista1 = [1, 5, 2, 8, 3, 9, 6]\n",
    "k1 = 5\n",
    "risultato1 = media_numeri_maggiori_k_generatore(lista1, k1)\n",
    "print(f\"Lista: {lista1}, K: {k1}, Media: {risultato1}\")\n",
    "\n",
    "lista2 = [1, 2, 3, 4]\n",
    "k2 = 5\n",
    "risultato2 = media_numeri_maggiori_k_generatore(lista2, k2)\n",
    "print(f\"Lista: {lista2}, K: {k2}, Media: {risultato2}\")\n",
    "\n",
    "lista3 = [10, 20, 30, 40, 50]\n",
    "k3 = 25\n",
    "risultato3 = media_numeri_maggiori_k_generatore(lista3, k3)\n",
    "print(f\"Lista: {lista3}, K: {k3}, Media: {risultato3}\")\n",
    "\n",
    "lista4 = [2, 4, 6, 8]\n",
    "k4 = 10\n",
    "risultato4 = media_numeri_maggiori_k_generatore(lista4, k4)\n",
    "print(f\"Lista: {lista4}, K: {k4}, Media: {risultato4}\")"
   ]
  },
  {
   "cell_type": "code",
   "execution_count": 323,
   "id": "fae16a05-b6fa-4323-8647-a11d8bade990",
   "metadata": {},
   "outputs": [
    {
     "name": "stdout",
     "output_type": "stream",
     "text": [
      "Lista: [1, 5, 2, 8, 3, 9, 6], K: 5, Risultato: 7.0\n",
      "Lista: [1, 2, 3, 4], K: 5, Risultato: Nessun numero nella lista è maggiore o uguale a K.\n",
      "Lista: [10, 20, 30, 40, 50], K: 25, Risultato: 40.0\n"
     ]
    }
   ],
   "source": [
    "#Variante 5\n",
    "def media_numeri_maggiori_k_errori(lista_numeri, k):\n",
    "    try:\n",
    "        numeri_validi = [numero for numero in lista_numeri if numero >= k]\n",
    "\n",
    "        if not numeri_validi:\n",
    "            return \"Nessun numero nella lista è maggiore o uguale a K.\"\n",
    "\n",
    "        media = sum(numeri_validi) / len(numeri_validi)\n",
    "        return media\n",
    "    except TypeError:\n",
    "        return \"Input non valido. Assicurati che la lista contenga solo numeri.\"\n",
    "\n",
    "# Esempi di utilizzo\n",
    "lista1 = [1, 5, 2, 8, 3, 9, 6]\n",
    "k1 = 5\n",
    "risultato1 = media_numeri_maggiori_k_errori(lista1, k1)\n",
    "print(f\"Lista: {lista1}, K: {k1}, Risultato: {risultato1}\")\n",
    "\n",
    "lista2 = [1, 2, 3, 4]\n",
    "k2 = 5\n",
    "risultato2 = media_numeri_maggiori_k_errori(lista2, k2)\n",
    "print(f\"Lista: {lista2}, K: {k2}, Risultato: {risultato2}\")\n",
    "\n",
    "lista3 = [10, 20, 30, 40, 50]\n",
    "k3 = 25\n",
    "risultato3 = media_numeri_maggiori_k_errori(lista3, k3)\n",
    "print(f\"Lista: {lista3}, K: {k3}, Risultato: {risultato3}\")"
   ]
  },
  {
   "cell_type": "code",
   "execution_count": 325,
   "id": "6f5fe55e-1472-4caf-8eab-811f754a26b0",
   "metadata": {},
   "outputs": [
    {
     "name": "stdin",
     "output_type": "stream",
     "text": [
      "Inserisci una lista di numeri separati da spazio:  5 6 8 1 2 3 9\n",
      "Inserisci il numero K:  5\n"
     ]
    },
    {
     "name": "stdout",
     "output_type": "stream",
     "text": [
      "7.0\n"
     ]
    }
   ],
   "source": [
    "#Variante 6\n",
    "def calcola_media(lista, K):\n",
    "    # Filtriamo la lista per ottenere solo i numeri maggiori o uguali a K\n",
    "    numeri_filtrati = [num for num in lista if num >= K]\n",
    "    \n",
    "    # Controlliamo se ci sono numeri che soddisfano la condizione\n",
    "    if len(numeri_filtrati) == 0:\n",
    "        return \"Nessun numero maggiore o uguale a K.\"\n",
    "    \n",
    "    # Calcoliamo la media\n",
    "    media = sum(numeri_filtrati) / len(numeri_filtrati)\n",
    "    return media\n",
    "\n",
    "# Acquisizione dei dati in input\n",
    "lista = [int(x) for x in input(\"Inserisci una lista di numeri separati da spazio: \").split()]\n",
    "K = int(input(\"Inserisci il numero K: \"))\n",
    "\n",
    "# Calcoliamo e stampiamo il risultato\n",
    "risultato = calcola_media(lista, K)\n",
    "print(risultato)\n"
   ]
  },
  {
   "cell_type": "code",
   "execution_count": 283,
   "id": "73ed76f8-ee9e-4f14-8569-d20a85a120bd",
   "metadata": {},
   "outputs": [
    {
     "name": "stdout",
     "output_type": "stream",
     "text": [
      "*****\n",
      "**\n",
      "***\n",
      "****\n"
     ]
    }
   ],
   "source": [
    "\"\"\"Esercizio 20\n",
    "Scrivere un programma che, data una lista di numeri, come output stamperà lo stesso numero di asterischi su righe diverse, ottenendo una semplice visualizzazione grafica \n",
    "Esempio, supponendo di avere il seguente\n",
    "input: numeri = [5, 2, 3, 4] \n",
    "L'output sarà: ***** ** *** ****\n",
    "\"\"\"\n",
    "\n",
    "def stampa_asterischi(lista_numeri):\n",
    " # Stampa una riga di asterischi per ogni numero nella lista.\n",
    "    for numero in lista_numeri:\n",
    "        print(\"*\" * numero)\n",
    "\n",
    "# Esempio di utilizzo\n",
    "numeri = [5, 2, 3, 4]\n",
    "stampa_asterischi(numeri)"
   ]
  },
  {
   "cell_type": "code",
   "execution_count": 285,
   "id": "7e43b3a0-8e31-4552-b6f5-0886a9267908",
   "metadata": {},
   "outputs": [
    {
     "name": "stdout",
     "output_type": "stream",
     "text": [
      "*****\n",
      "**\n",
      "***\n",
      "****\n"
     ]
    }
   ],
   "source": [
    "#Variante 2\n",
    "def stampa_asterischi_comprensione(lista_numeri):\n",
    "#Stampa righe di asterischi usando list comprehension.\n",
    "    [print(\"*\" * numero) for numero in lista_numeri]\n",
    "\n",
    "# Esempio di utilizzo\n",
    "numeri = [5, 2, 3, 4]\n",
    "stampa_asterischi_comprensione(numeri)"
   ]
  },
  {
   "cell_type": "code",
   "execution_count": 291,
   "id": "4eda8c74-6e70-40ea-80da-b002c2fcff54",
   "metadata": {},
   "outputs": [
    {
     "name": "stdout",
     "output_type": "stream",
     "text": [
      "*****\n",
      "**\n",
      "***\n",
      "****\n"
     ]
    }
   ],
   "source": [
    "#Variante 3\n",
    "def stampa_asterischi_map(lista_numeri):\n",
    "#Stampa righe di asterischi usando map() e lambda.\n",
    "    \n",
    "    list(map(lambda numero: print(\"*\" * numero), lista_numeri))\n",
    "\n",
    "# Esempio di utilizzo\n",
    "numeri = [5, 2, 3, 4]\n",
    "stampa_asterischi_map(numeri)"
   ]
  },
  {
   "cell_type": "code",
   "execution_count": 17,
   "id": "d40807ab-e399-4fb6-baf3-4224798bf8a0",
   "metadata": {},
   "outputs": [
    {
     "name": "stdout",
     "output_type": "stream",
     "text": [
      "*****\n",
      "**\n",
      "***\n",
      "****\n"
     ]
    }
   ],
   "source": [
    "#Variante 4\n",
    "\n",
    "def genera_asterischi(lista_numeri):\n",
    "  #Genera righe di asterischi.\n",
    "\n",
    "    for numero in lista_numeri:\n",
    "        yield \"*\" * numero\n",
    "\n",
    "def stampa_asterischi_generatore(lista_numeri):\n",
    "\n",
    "    #Stampa righe di asterischi usando un generatore.\n",
    "  \n",
    "    for riga in genera_asterischi(lista_numeri):\n",
    "        print(riga)\n",
    "\n",
    "# Esempio di utilizzo\n",
    "numeri = [5, 2, 3, 4]\n",
    "stampa_asterischi_generatore(numeri)"
   ]
  },
  {
   "cell_type": "code",
   "execution_count": 331,
   "id": "c7c163fb-b0a0-4333-890b-a391b599e91d",
   "metadata": {},
   "outputs": [
    {
     "name": "stdout",
     "output_type": "stream",
     "text": [
      "Codice fiscale: ABCDEF95G01A123B, Nome: ABC, Cognome: DEF\n",
      "Codice fiscale: STUVWX95Z04A654E, Nome: STU, Cognome: VWX\n",
      "Codice fiscale: DEFGHI95J06A987G, Nome: DEF, Cognome: GHI\n",
      "\n",
      "Codici fiscali contenenti '95':\n",
      "['ABCDEF95G01A123B', 'STUVWX95Z04A654E', 'DEFGHI95J06A987G']\n"
     ]
    }
   ],
   "source": [
    "\"\"\"Esercizio 21\n",
    "Abbiamo una lista di codici fiscali: \n",
    "\n",
    "lista_cf = [\"ABCDEF95G01A123B\", \"GHIJKL91M02A321C\", \"MNOPQR89S03A456D\", \"STUVWX95Z04A654E\", \"XYZABC01D05A789F\", \"DEFGHI95J06A987G\"] \n",
    "\n",
    "• trovare i codici fiscali che contengono \"95\", metterli in una lista, e alla fine stamparla; \n",
    "• inoltre, per ognuno di essi, stampare a video i caratteri relativi al nome e quelli relativi al cognome\n",
    "\"\"\"\n",
    "lista_cf = [\"ABCDEF95G01A123B\", \"GHIJKL91M02A321C\", \"MNOPQR89S03A456D\", \"STUVWX95Z04A654E\", \"XYZABC01D05A789F\", \"DEFGHI95J06A987G\"]\n",
    "\n",
    "codici_fiscali_95 = []\n",
    "\n",
    "for cf in lista_cf:\n",
    "    if \"95\" in cf:\n",
    "        codici_fiscali_95.append(cf)\n",
    "        nome = cf[:3]\n",
    "        cognome = cf[3:6]\n",
    "        print(f\"Codice fiscale: {cf}, Nome: {nome}, Cognome: {cognome}\")\n",
    "\n",
    "print(\"\\nCodici fiscali contenenti '95':\")\n",
    "print(codici_fiscali_95)"
   ]
  },
  {
   "cell_type": "code",
   "execution_count": 355,
   "id": "58570f5f-5262-4998-984d-90ba73d766cd",
   "metadata": {},
   "outputs": [
    {
     "name": "stdout",
     "output_type": "stream",
     "text": [
      "Studenti che frequentano una prima edizione:\n",
      "Alex\n",
      "Faith\n"
     ]
    }
   ],
   "source": [
    "\"\"\"Esercizio 22\n",
    "Abbiamo tre liste della stessa lunghezza, dove ogni elemento nella medesima posizione si riferisce ai dati dello stesso studente: \n",
    "\n",
    "studenti = [\"Alex\", \"Bob\", \"Cindy\", \"Dan\", \"Emma\", \"Faith\", \"Grace\", \"Henry\"] \n",
    "corsi = [\"Cybersecurity\", \"Data Analyst\", \"Backend\", \"Frontend\", \"Data Analyst\", \"Backend\", \"Frontend\", \"Cybersecurity\"] \n",
    "edizioni = [1, 2, 3, 2, 2, 1, 3, 3] \n",
    "\n",
    "• Stampare a video tutti e soli gli studenti che frequentano una prima edizione; non tutti i dati potrebbero essere necessari.\n",
    "Riuscite a vedere una similarita con la logica che si usa in SQL e le tabelle relazionali?\n",
    "\"\"\"\n",
    "\n",
    "studenti = [\"Alex\", \"Bob\", \"Cindy\", \"Dan\", \"Emma\", \"Faith\", \"Grace\", \"Henry\"] \n",
    "corsi = [\"Cybersecurity\", \"Data Analyst\", \"Backend\", \"Frontend\", \"Data Analyst\", \"Backend\", \"Frontend\", \"Cybersecurity\"] \n",
    "edizioni = [1, 2, 3, 2, 2, 1, 3, 3] \n",
    "\n",
    "\n",
    "print(\"Studenti che frequentano una prima edizione:\")\n",
    "for i in range(len(studenti)):\n",
    "    if edizioni[i] == 1:\n",
    "        print(studenti[i])"
   ]
  },
  {
   "cell_type": "code",
   "execution_count": 357,
   "id": "f4ba1247-8ae1-4b0b-b46d-52455722d521",
   "metadata": {},
   "outputs": [
    {
     "name": "stdout",
     "output_type": "stream",
     "text": [
      "Studenti che frequentano una prima edizione:\n",
      "Alex\n",
      "Faith\n"
     ]
    }
   ],
   "source": [
    "#Variante 2\n",
    "print(\"Studenti che frequentano una prima edizione:\")\n",
    "for studente, corso, edizione in zip(studenti, corsi, edizioni):\n",
    "    if edizione == 1:\n",
    "        print(studente)"
   ]
  },
  {
   "cell_type": "code",
   "execution_count": 359,
   "id": "0c16d883-c8f9-40a2-92c5-43492af452a0",
   "metadata": {},
   "outputs": [
    {
     "name": "stdout",
     "output_type": "stream",
     "text": [
      "Studenti che frequentano una prima edizione:\n",
      "Alex\n",
      "Faith\n"
     ]
    }
   ],
   "source": [
    "#Variante 3\n",
    "studenti_prima_edizione = [studente for studente, edizione in zip(studenti, edizioni) if edizione == 1]\n",
    "\n",
    "print(\"Studenti che frequentano una prima edizione:\")\n",
    "for studente in studenti_prima_edizione:\n",
    "    print(studente)"
   ]
  },
  {
   "cell_type": "code",
   "execution_count": 363,
   "id": "27aaceb9-c5b2-4a54-9297-a1d5c15aa4f5",
   "metadata": {},
   "outputs": [
    {
     "name": "stdout",
     "output_type": "stream",
     "text": [
      "Studenti che frequentano una prima edizione:\n",
      "Alex\n",
      "Faith\n"
     ]
    }
   ],
   "source": [
    "#Variante 4\n",
    "studenti_prima_edizione = list(studente for studente, edizione in filter(lambda x: x[1] == 1, zip(studenti, edizioni)))\n",
    "\n",
    "print(\"Studenti che frequentano una prima edizione:\")\n",
    "for studente in studenti_prima_edizione:\n",
    "    print(studente)"
   ]
  },
  {
   "cell_type": "code",
   "execution_count": null,
   "id": "4592b2df-0221-4f8e-a8a1-ed197fa92088",
   "metadata": {},
   "outputs": [],
   "source": [
    "\"\"\" Riuscite a vedere una similarita con la logica che si usa in SQL e le tabelle relazionali?\n",
    "Si - La struttura delle liste parallele che abbiamo utilizzato nell'esercizio precedente riflette da vicino la logica delle tabelle relazionali utilizzate in SQL.  \n",
    "ogni lista è come una colonna, gli indici sono le righe, e le operazioni di filtro con if o list comprehension sono simili alle clausole WHERE di SQL. \n",
    "La funzione zip() è l'equivalente di un JOIN.\n",
    "\"\"\""
   ]
  },
  {
   "cell_type": "code",
   "execution_count": 6,
   "id": "dc6012c3-6322-4292-bfb7-2d802bd541ab",
   "metadata": {},
   "outputs": [
    {
     "name": "stdout",
     "output_type": "stream",
     "text": [
      "['100 $', '200 $', '500 $', '10 $', '50 $', '70 $']\n"
     ]
    }
   ],
   "source": [
    "\"\"\"Esercizio 23\n",
    "Abbiamo una lista di stringhe di prezzi in dollari, che erroneamente sono stati scritti con il simbolo dell'euro: \n",
    "\n",
    "prezzi = [\"100 €\", \"200 €\", \"500 €\", \"10 €\", \"50 €\", \"70 €\"] \n",
    "\n",
    "cambiare il simbolo dell'euro (€) in quello del dollaro ($) per ogni stringa nella lista; il risultato sarà memorizzato in un'altra lista.\"\"\"\n",
    "\n",
    "prezzi = [\"100 €\", \"200 €\", \"500 €\", \"10 €\", \"50 €\", \"70 €\"] \n",
    "\n",
    "prezzo_dollari = []\n",
    "\n",
    "for prezzo in prezzi:\n",
    "    prezzo_dollaro = prezzo.replace(\"€\", \"$\")\n",
    "    prezzo_dollari.append(prezzo_dollaro)\n",
    "\n",
    "print(prezzo_dollari)\n"
   ]
  },
  {
   "cell_type": "code",
   "execution_count": 8,
   "id": "88c3e4c0-43a1-4024-b33a-dd887e308adc",
   "metadata": {},
   "outputs": [
    {
     "name": "stdout",
     "output_type": "stream",
     "text": [
      "['100 $', '200 $', '500 $', '10 $', '50 $', '70 $']\n"
     ]
    }
   ],
   "source": [
    "# 2 approach using the list comprehension\n",
    "\n",
    "prezzi = [\"100 €\", \"200 €\", \"500 €\", \"10 €\", \"50 €\", \"70 €\"]\n",
    "prezzi_dollari = [prezzo.replace(\"€\", \"$\") for prezzo in prezzi]\n",
    "\n",
    "print(prezzi_dollari)"
   ]
  },
  {
   "cell_type": "code",
   "execution_count": 11,
   "id": "669409b8-ef68-4c49-b859-fbf7654ed134",
   "metadata": {},
   "outputs": [
    {
     "name": "stdout",
     "output_type": "stream",
     "text": [
      "['100 $', '200 $', '500 $', '10 $', '50 $', '70 $']\n"
     ]
    }
   ],
   "source": [
    "# 3 approch\n",
    "prezzi = [\"100 €\", \"200 €\", \"500 €\", \"10 €\", \"50 €\", \"70 €\"]\n",
    "prezzi_dollari = []\n",
    "\n",
    "for prezzo in prezzi:\n",
    "    prezzo_dollaro = prezzo[:-1] + \"$\"\n",
    "    prezzi_dollari.append(prezzo_dollaro)\n",
    "\n",
    "print(prezzi_dollari)"
   ]
  },
  {
   "cell_type": "code",
   "execution_count": 15,
   "id": "1d184f88-2031-4f6e-913c-5ff7a63c9062",
   "metadata": {},
   "outputs": [
    {
     "name": "stdout",
     "output_type": "stream",
     "text": [
      "Squadra con i nomi in posizione pari: ['Alex', 'Cindy', 'Emma', 'Grace', 'Isabelle']\n",
      "Squadra con i nomi in posizione dispari: ['Bob', 'Dan', 'Faith', 'Henry', 'John']\n"
     ]
    }
   ],
   "source": [
    "\"\"\" Esercizio 24\n",
    "Abbiamo una lista di studenti: \n",
    "\n",
    "studenti = [\"Alex\", \"Bob\", \"Cindy\", \"Dan\", \"Emma\", \"Faith\", \"Grace\", \"Henry\", \"Isabelle\", \"John\"] \n",
    "\n",
    "vogliamo dividere gli studenti in due squadre per un campionato di Uno nel seguente modo: \n",
    "selezioneremo i nomi in posizione pari per un squadra, e i nomi in posizione dispari per l'altra. \n",
    "Creiamo due liste per ogni squadra, e alla fine visualizziamole.\n",
    "\"\"\"\n",
    "\n",
    "studenti = [\"Alex\", \"Bob\", \"Cindy\", \"Dan\", \"Emma\", \"Faith\", \"Grace\", \"Henry\", \"Isabelle\", \"John\"] \n",
    "team_pari = []\n",
    "team_dispari = []\n",
    "\n",
    "for i, studente in enumerate(studenti):\n",
    "    if i % 2 == 0:\n",
    "        team_pari.append(studente)\n",
    "    else:\n",
    "        team_dispari.append(studente)\n",
    "\n",
    "print(\"Squadra con i nomi in posizione pari:\", team_pari)\n",
    "print(\"Squadra con i nomi in posizione dispari:\", team_dispari)\n",
    "        \n",
    "    "
   ]
  },
  {
   "cell_type": "code",
   "execution_count": 17,
   "id": "8121d26d-99e3-426a-b3a3-a6a2865333dc",
   "metadata": {},
   "outputs": [
    {
     "name": "stdout",
     "output_type": "stream",
     "text": [
      "Squadra con i nomi in posizione pari: ['Alex', 'Cindy', 'Emma', 'Grace', 'Isabelle']\n",
      "Squadra con i nomi in posizione dispari: ['Bob', 'Dan', 'Faith', 'Henry', 'John']\n"
     ]
    }
   ],
   "source": [
    "# 2 approach\n",
    "studenti = [\"Alex\", \"Bob\", \"Cindy\", \"Dan\", \"Emma\", \"Faith\", \"Grace\", \"Henry\", \"Isabelle\", \"John\"]\n",
    "team_pari = studenti[0::2]  # Prende gli elementi a indici pari (0, 2, 4...)\n",
    "team_dispari = studenti[1::2] # Prende gli elementi a indici dispari (1, 3, 5...)\n",
    "\n",
    "print(\"Squadra con i nomi in posizione pari:\", team_pari)\n",
    "print(\"Squadra con i nomi in posizione dispari:\", team_dispari)\n"
   ]
  },
  {
   "cell_type": "code",
   "execution_count": 5,
   "id": "fb15dbff-06e1-4213-ab68-bb98834cbdc1",
   "metadata": {},
   "outputs": [
    {
     "name": "stdout",
     "output_type": "stream",
     "text": [
      "Mese 1: 100 €\n",
      "Mese 2: 90 € (media prec: 100.00 € - il guadagno attuale è minore)\n",
      "Mese 3: 70 € (media prec: 95.00 € - il guadagno attuale è minore)\n",
      "Mese 4: 40 € (media prec: 86.67 € - il guadagno attuale è minore)\n",
      "Mese 5: 50 € (media prec: 75.00 € - il guadagno attuale è minore)\n",
      "Mese 6: 80 € (media prec: 70.00 € - il guadagno attuale è maggiore)\n",
      "Mese 7: 90 € (media prec: 71.67 € - il guadagno attuale è maggiore)\n",
      "Mese 8: 120 € (media prec: 74.29 € - il guadagno attuale è maggiore)\n",
      "Mese 9: 80 € (media prec: 80.00 € - il guadagno attuale è uguale)\n",
      "Mese 10: 20 € (media prec: 80.00 € - il guadagno attuale è minore)\n",
      "Mese 11: 50 € (media prec: 74.00 € - il guadagno attuale è minore)\n",
      "Mese 12: 50 € (media prec: 71.82 € - il guadagno attuale è minore)\n"
     ]
    }
   ],
   "source": [
    "\"\"\" Esercizio 25\n",
    "Abbiamo una lista con i guadagni degli ultimi 12 mesi (supponiamo da Gennaio a Dicembre): \n",
    "\"\"\"\n",
    "guadagni = [100, 90, 70, 40, 50, 80, 90, 120, 80, 20, 50, 50] \n",
    "\n",
    "\"\"\" dobbiamo confrontare, stampando tutto a video, il guadagno di ogni mese con la media dei guadagni precedenti, \n",
    "e specificare nell'output se il guadagno attuale è maggiore o minore della media dei precedenti. \n",
    "Esempio di un possibile output: \n",
    "        Mese 1: 100 € \n",
    "        Mese 2: 90 € (media prec: 100 € - il guadagno attuale è minore) \n",
    "        Mese 3: 70 € (media prec: 95 € - il guadagno attuale è minore)\n",
    "        \"\"\"\n",
    "for mese, guadagno_attuale in enumerate(guadagni, 1):  # Inizia da 1 per i mesi\n",
    "    if mese == 1: #Se è il primo mese, stampiamo semplicemente il guadagno senza confrontarlo con una media precedente (perché non ce ne sono).\n",
    "        print(f\"Mese {mese}: {guadagno_attuale} €\")\n",
    "    else:\n",
    "        guadagni_precedenti = guadagni[:mese - 1] #Per i mesi successivi, creiamo una sottolista che contiene i guadagni dei mesi precedenti utilizzando lo slicing guadagni[:mese - 1].\n",
    "        media_precedente = sum(guadagni_precedenti) / len(guadagni_precedenti) #Calcoliamo la media dei guadagni precedenti utilizzando\n",
    "        if guadagno_attuale > media_precedente: #Confrontiamo il guadagno attuale con la media precedente e stampiamo un messaggio appropriato (maggiore, minore o uguale).\n",
    "            print(f\"Mese {mese}: {guadagno_attuale} € (media prec: {media_precedente:.2f} € - il guadagno attuale è maggiore)\")\n",
    "        elif guadagno_attuale < media_precedente:\n",
    "            print(f\"Mese {mese}: {guadagno_attuale} € (media prec: {media_precedente:.2f} € - il guadagno attuale è minore)\")\n",
    "        else:\n",
    "            print(f\"Mese {mese}: {guadagno_attuale} € (media prec: {media_precedente:.2f} € - il guadagno attuale è uguale)\")"
   ]
  },
  {
   "cell_type": "code",
   "execution_count": 21,
   "id": "9bc14689-3071-48e2-b0ad-8057990fa908",
   "metadata": {},
   "outputs": [
    {
     "name": "stdout",
     "output_type": "stream",
     "text": [
      "Mese 1: 100 €\n",
      "Mese 2: 90 € (media prec: 100.00 € - il guadagno attuale è minore)\n",
      "Mese 3: 70 € (media prec: 95.00 € - il guadagno attuale è minore)\n",
      "Mese 4: 40 € (media prec: 86.67 € - il guadagno attuale è minore)\n",
      "Mese 5: 50 € (media prec: 75.00 € - il guadagno attuale è minore)\n",
      "Mese 6: 80 € (media prec: 70.00 € - il guadagno attuale è maggiore)\n",
      "Mese 7: 90 € (media prec: 71.67 € - il guadagno attuale è maggiore)\n",
      "Mese 8: 120 € (media prec: 74.29 € - il guadagno attuale è maggiore)\n",
      "Mese 9: 80 € (media prec: 80.00 € - il guadagno attuale è minore)\n",
      "Mese 10: 20 € (media prec: 80.00 € - il guadagno attuale è minore)\n",
      "Mese 11: 50 € (media prec: 74.00 € - il guadagno attuale è minore)\n",
      "Mese 12: 50 € (media prec: 71.82 € - il guadagno attuale è minore)\n"
     ]
    }
   ],
   "source": [
    "guadagni = [100, 90, 70, 40, 50, 80, 90, 120, 80, 20, 50, 50]\n",
    "\n",
    "print(f\"Mese 1: {guadagni[0]} €\")  # Il primo mese non ha una media precedente\n",
    "\n",
    "for mese in range(1, len(guadagni)):\n",
    "    media_precedenti = sum(guadagni[:mese]) / mese  # Calcola la media dei mesi precedenti\n",
    "    guadagno_attuale = guadagni[mese]\n",
    "    \n",
    "    # Determina se è maggiore o minore\n",
    "    confronto = \"maggiore\" if guadagno_attuale > media_precedenti else \"minore\"\n",
    "\n",
    "    print(f\"Mese {mese + 1}: {guadagno_attuale} € (media prec: {media_precedenti:.2f} € - il guadagno attuale è {confronto})\")\n"
   ]
  },
  {
   "cell_type": "code",
   "execution_count": 23,
   "id": "4156d2d8-f431-45c3-94ef-1998966e430e",
   "metadata": {},
   "outputs": [
    {
     "name": "stdout",
     "output_type": "stream",
     "text": [
      "Mese 1: 100 €\n",
      "Mese 2: 90 € (media prec: 100.00 € - il guadagno attuale è minore)\n",
      "Mese 3: 70 € (media prec: 95.00 € - il guadagno attuale è minore)\n",
      "Mese 4: 40 € (media prec: 86.67 € - il guadagno attuale è minore)\n",
      "Mese 5: 50 € (media prec: 75.00 € - il guadagno attuale è minore)\n",
      "Mese 6: 80 € (media prec: 70.00 € - il guadagno attuale è maggiore)\n",
      "Mese 7: 90 € (media prec: 71.67 € - il guadagno attuale è maggiore)\n",
      "Mese 8: 120 € (media prec: 74.29 € - il guadagno attuale è maggiore)\n",
      "Mese 9: 80 € (media prec: 80.00 € - il guadagno attuale è uguale)\n",
      "Mese 10: 20 € (media prec: 80.00 € - il guadagno attuale è minore)\n",
      "Mese 11: 50 € (media prec: 74.00 € - il guadagno attuale è minore)\n",
      "Mese 12: 50 € (media prec: 71.82 € - il guadagno attuale è minore)\n"
     ]
    }
   ],
   "source": [
    "# 2 approach\n",
    "from itertools import accumulate\n",
    "\n",
    "guadagni = [100, 90, 70, 40, 50, 80, 90, 120, 80, 20, 50, 50]\n",
    "medie_parziali = [x / i for i, x in enumerate(accumulate(guadagni), 1)]\n",
    "\n",
    "for mese, guadagno_attuale in enumerate(guadagni, 1):\n",
    "    if mese == 1:\n",
    "        print(f\"Mese {mese}: {guadagno_attuale} €\")\n",
    "    else:\n",
    "        media_precedente = medie_parziali[mese - 2]\n",
    "        if guadagno_attuale > media_precedente:\n",
    "            print(f\"Mese {mese}: {guadagno_attuale} € (media prec: {media_precedente:.2f} € - il guadagno attuale è maggiore)\")\n",
    "        elif guadagno_attuale < media_precedente:\n",
    "            print(f\"Mese {mese}: {guadagno_attuale} € (media prec: {media_precedente:.2f} € - il guadagno attuale è minore)\")\n",
    "        else:\n",
    "            print(f\"Mese {mese}: {guadagno_attuale} € (media prec: {media_precedente:.2f} € - il guadagno attuale è uguale)\")"
   ]
  },
  {
   "cell_type": "code",
   "execution_count": 25,
   "id": "8de34e85-4893-410d-b139-8c1fd053146b",
   "metadata": {},
   "outputs": [
    {
     "name": "stdout",
     "output_type": "stream",
     "text": [
      "Mese 1: 100 €\n",
      "Mese 2: 90 € (media prec: 100.00 € - il guadagno attuale è minore)\n",
      "Mese 3: 70 € (media prec: 95.00 € - il guadagno attuale è minore)\n",
      "Mese 4: 40 € (media prec: 86.67 € - il guadagno attuale è minore)\n",
      "Mese 5: 50 € (media prec: 75.00 € - il guadagno attuale è minore)\n",
      "Mese 6: 80 € (media prec: 70.00 € - il guadagno attuale è maggiore)\n",
      "Mese 7: 90 € (media prec: 71.67 € - il guadagno attuale è maggiore)\n",
      "Mese 8: 120 € (media prec: 74.29 € - il guadagno attuale è maggiore)\n",
      "Mese 9: 80 € (media prec: 80.00 € - il guadagno attuale è uguale)\n",
      "Mese 10: 20 € (media prec: 80.00 € - il guadagno attuale è minore)\n",
      "Mese 11: 50 € (media prec: 74.00 € - il guadagno attuale è minore)\n",
      "Mese 12: 50 € (media prec: 71.82 € - il guadagno attuale è minore)\n"
     ]
    }
   ],
   "source": [
    "# 3 approach\n",
    "\n",
    "def media_precedente(guadagni, mese):\n",
    "    if mese == 1:\n",
    "        return None\n",
    "    guadagni_precedenti = guadagni[:mese - 1]\n",
    "    return sum(guadagni_precedenti) / len(guadagni_precedenti)\n",
    "\n",
    "guadagni = [100, 90, 70, 40, 50, 80, 90, 120, 80, 20, 50, 50]\n",
    "\n",
    "for mese, guadagno_attuale in enumerate(guadagni, 1):\n",
    "    media = media_precedente(guadagni, mese)\n",
    "    if media is None:\n",
    "        print(f\"Mese {mese}: {guadagno_attuale} €\")\n",
    "    else:\n",
    "        if guadagno_attuale > media:\n",
    "            print(f\"Mese {mese}: {guadagno_attuale} € (media prec: {media:.2f} € - il guadagno attuale è maggiore)\")\n",
    "        elif guadagno_attuale < media:\n",
    "            print(f\"Mese {mese}: {guadagno_attuale} € (media prec: {media:.2f} € - il guadagno attuale è minore)\")\n",
    "        else:\n",
    "            print(f\"Mese {mese}: {guadagno_attuale} € (media prec: {media:.2f} € - il guadagno attuale è uguale)\")"
   ]
  },
  {
   "cell_type": "code",
   "execution_count": 7,
   "id": "747b1dbd-d78d-46bc-a8bc-458db20d112c",
   "metadata": {},
   "outputs": [
    {
     "name": "stdout",
     "output_type": "stream",
     "text": [
      "Gennaio: 100 €\n",
      "Febbraio: 90 € (media prec: 100.00 € - il guadagno attuale è minore)\n",
      "Marzo: 70 € (media prec: 95.00 € - il guadagno attuale è minore)\n",
      "Aprile: 40 € (media prec: 86.67 € - il guadagno attuale è minore)\n",
      "Maggio: 50 € (media prec: 75.00 € - il guadagno attuale è minore)\n",
      "Giugno: 80 € (media prec: 70.00 € - il guadagno attuale è maggiore)\n",
      "Luglio: 90 € (media prec: 71.67 € - il guadagno attuale è maggiore)\n",
      "Agosto: 120 € (media prec: 74.29 € - il guadagno attuale è maggiore)\n",
      "Settembre: 80 € (media prec: 80.00 € - il guadagno attuale è uguale)\n",
      "Ottobre: 20 € (media prec: 80.00 € - il guadagno attuale è minore)\n",
      "Novembre: 50 € (media prec: 74.00 € - il guadagno attuale è minore)\n",
      "Dicembre: 50 € (media prec: 71.82 € - il guadagno attuale è minore)\n"
     ]
    }
   ],
   "source": [
    "#another approach\n",
    "guadagni = [100, 90, 70, 40, 50, 80, 90, 120, 80, 20, 50, 50]\n",
    "mesi = ['gennaio', 'febbraio', 'marzo', 'aprile', 'maggio', 'giugno', 'luglio', 'agosto', 'settembre', 'ottobre', 'novembre', 'dicembre']\n",
    "\n",
    "for indice_mese, guadagno_attuale in enumerate(guadagni):\n",
    "    nome_mese = mesi[indice_mese]  # Ottieni il nome del mese dall'indice\n",
    "\n",
    "    if indice_mese == 0:  # Primo mese\n",
    "        print(f\"{nome_mese.capitalize()}: {guadagno_attuale} €\")\n",
    "    else:\n",
    "        guadagni_precedenti = guadagni[:indice_mese]\n",
    "        media_precedente = sum(guadagni_precedenti) / len(guadagni_precedenti)\n",
    "\n",
    "        if guadagno_attuale > media_precedente:\n",
    "            print(f\"{nome_mese.capitalize()}: {guadagno_attuale} € (media prec: {media_precedente:.2f} € - il guadagno attuale è maggiore)\")\n",
    "        elif guadagno_attuale < media_precedente:\n",
    "            print(f\"{nome_mese.capitalize()}: {guadagno_attuale} € (media prec: {media_precedente:.2f} € - il guadagno attuale è minore)\")\n",
    "        else:\n",
    "            print(f\"{nome_mese.capitalize()}: {guadagno_attuale} € (media prec: {media_precedente:.2f} € - il guadagno attuale è uguale)\")"
   ]
  },
  {
   "cell_type": "code",
   "execution_count": 9,
   "id": "4099da85-6df7-4c1b-a6bf-1259a78effa9",
   "metadata": {},
   "outputs": [
    {
     "name": "stdout",
     "output_type": "stream",
     "text": [
      "Gennaio: 100 €\n",
      "Febbraio: 90 € (media prec: 100.00 € - il guadagno attuale è minore)\n",
      "Marzo: 70 € (media prec: 95.00 € - il guadagno attuale è minore)\n",
      "Aprile: 40 € (media prec: 86.67 € - il guadagno attuale è minore)\n",
      "Maggio: 50 € (media prec: 75.00 € - il guadagno attuale è minore)\n",
      "Giugno: 80 € (media prec: 70.00 € - il guadagno attuale è maggiore)\n",
      "Luglio: 90 € (media prec: 71.67 € - il guadagno attuale è maggiore)\n",
      "Agosto: 120 € (media prec: 74.29 € - il guadagno attuale è maggiore)\n",
      "Settembre: 80 € (media prec: 80.00 € - il guadagno attuale è uguale)\n",
      "Ottobre: 20 € (media prec: 80.00 € - il guadagno attuale è minore)\n",
      "Novembre: 50 € (media prec: 74.00 € - il guadagno attuale è minore)\n",
      "Dicembre: 50 € (media prec: 71.82 € - il guadagno attuale è minore)\n"
     ]
    }
   ],
   "source": [
    "import pandas as pd\n",
    "\n",
    "guadagni = [100, 90, 70, 40, 50, 80, 90, 120, 80, 20, 50, 50]\n",
    "mesi = ['gennaio', 'febbraio', 'marzo', 'aprile', 'maggio', 'giugno', 'luglio', 'agosto', 'settembre', 'ottobre', 'novembre', 'dicembre']\n",
    "\n",
    "# Crea una Series Pandas\n",
    "guadagni_series = pd.Series(guadagni, index=mesi)\n",
    "\n",
    "# Iterazione sulla Series\n",
    "for mese, guadagno_attuale in guadagni_series.items():\n",
    "    guadagni_precedenti = guadagni_series[:mese]  # Slicing fino al mese corrente\n",
    "    media_precedente = guadagni_precedenti[:-1].mean()  # Media escludendo il mese corrente\n",
    "\n",
    "    if pd.isna(media_precedente):  # Se non ci sono mesi precedenti, la media è NaN\n",
    "        print(f\"{mese.capitalize()}: {guadagno_attuale} €\")\n",
    "    else:\n",
    "        if guadagno_attuale > media_precedente:\n",
    "            print(f\"{mese.capitalize()}: {guadagno_attuale} € (media prec: {media_precedente:.2f} € - il guadagno attuale è maggiore)\")\n",
    "        elif guadagno_attuale < media_precedente:\n",
    "            print(f\"{mese.capitalize()}: {guadagno_attuale} € (media prec: {media_precedente:.2f} € - il guadagno attuale è minore)\")\n",
    "        else:\n",
    "            print(f\"{mese.capitalize()}: {guadagno_attuale} € (media prec: {media_precedente:.2f} € - il guadagno attuale è uguale)\")"
   ]
  },
  {
   "cell_type": "code",
   "execution_count": null,
   "id": "c7c04fe0-9ab4-4330-9d48-f37620a95ef9",
   "metadata": {},
   "outputs": [],
   "source": []
  }
 ],
 "metadata": {
  "kernelspec": {
   "display_name": "Python [conda env:base] *",
   "language": "python",
   "name": "conda-base-py"
  },
  "language_info": {
   "codemirror_mode": {
    "name": "ipython",
    "version": 3
   },
   "file_extension": ".py",
   "mimetype": "text/x-python",
   "name": "python",
   "nbconvert_exporter": "python",
   "pygments_lexer": "ipython3",
   "version": "3.12.7"
  }
 },
 "nbformat": 4,
 "nbformat_minor": 5
}
