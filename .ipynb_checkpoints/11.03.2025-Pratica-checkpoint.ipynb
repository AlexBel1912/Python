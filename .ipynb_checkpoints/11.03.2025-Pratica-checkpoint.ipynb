{
 "cells": [
  {
   "cell_type": "code",
   "execution_count": 5,
   "id": "33194dc8-fe2a-47b0-99a5-551babc91a22",
   "metadata": {},
   "outputs": [],
   "source": [
    "proprietari_auto = {\"Ada\": \"Punto\",\n",
    "                    \"Ben\": \"Multipla\",\n",
    "                    \"Charlie\": \"Golf\",\n",
    "                    \"Debbie\": \"107\"}\n"
   ]
  },
  {
   "cell_type": "code",
   "execution_count": 7,
   "id": "b511ee21-a893-4024-a234-cc502fcb3c44",
   "metadata": {},
   "outputs": [
    {
     "data": {
      "text/plain": [
       "'107'"
      ]
     },
     "execution_count": 7,
     "metadata": {},
     "output_type": "execute_result"
    }
   ],
   "source": [
    "proprietari_auto[\"Debbie\"]"
   ]
  },
  {
   "cell_type": "code",
   "execution_count": 10,
   "id": "ce3c6dfd-3976-4952-b0a8-c13d33404ba7",
   "metadata": {},
   "outputs": [],
   "source": [
    "rubrica = {\"Ada\": \"123\",\n",
    "           \"Ben\": \"456\",\n",
    "           \"Charlie\": \"789\",\n",
    "           \"Debbie\": \"012\",\n",
    "           \"Marco\": \"345\"}\n"
   ]
  },
  {
   "cell_type": "code",
   "execution_count": 12,
   "id": "51929aed-44bc-4852-9f24-590813548b0b",
   "metadata": {},
   "outputs": [
    {
     "data": {
      "text/plain": [
       "'345'"
      ]
     },
     "execution_count": 12,
     "metadata": {},
     "output_type": "execute_result"
    }
   ],
   "source": [
    "rubrica[\"Marco\"]"
   ]
  },
  {
   "cell_type": "code",
   "execution_count": 19,
   "id": "e0ad6815-6784-42ef-aedf-1499a9dd4207",
   "metadata": {},
   "outputs": [
    {
     "data": {
      "text/plain": [
       "dict_values(['Punto', 'Multipla', 'Golf', '107'])"
      ]
     },
     "execution_count": 19,
     "metadata": {},
     "output_type": "execute_result"
    }
   ],
   "source": [
    "proprietari_auto.values() #casting"
   ]
  },
  {
   "cell_type": "code",
   "execution_count": 21,
   "id": "702a65f1-2d57-4206-881e-bda3d94c5b39",
   "metadata": {},
   "outputs": [
    {
     "data": {
      "text/plain": [
       "['Punto', 'Multipla', 'Golf', '107']"
      ]
     },
     "execution_count": 21,
     "metadata": {},
     "output_type": "execute_result"
    }
   ],
   "source": [
    "list(proprietari_auto.values())"
   ]
  },
  {
   "cell_type": "code",
   "execution_count": 23,
   "id": "0b3c3e6e-2524-4b32-b274-d4352b84634d",
   "metadata": {},
   "outputs": [
    {
     "data": {
      "text/plain": [
       "dict_values(['123', '456', '789', '012', '345'])"
      ]
     },
     "execution_count": 23,
     "metadata": {},
     "output_type": "execute_result"
    }
   ],
   "source": [
    "rubrica.values()"
   ]
  },
  {
   "cell_type": "code",
   "execution_count": 31,
   "id": "ba7e0b54-83c9-4f78-8048-fd29d2295039",
   "metadata": {},
   "outputs": [
    {
     "name": "stdout",
     "output_type": "stream",
     "text": [
      "Punto\n",
      "Golf\n",
      "107\n"
     ]
    }
   ],
   "source": [
    "for auto in proprietari_auto.values():\n",
    "    if auto != \"Multipla\":\n",
    "        print(auto)"
   ]
  },
  {
   "cell_type": "code",
   "execution_count": 34,
   "id": "ac02a816-43a6-4659-9522-f0ab2a8d9678",
   "metadata": {},
   "outputs": [],
   "source": [
    "proprietari_auto = {\"Ada\": \"Punto\",\n",
    "                    \"Ben\": \"Multipla\",\n",
    "                    \"Charlie\": \"Golf\",\n",
    "                    \"Debbie\": \"107\",\n",
    "                   \"Emily\": \"A1\"}\n",
    "nuovi_proprietari = {\"Ben\": \"Polo\",\n",
    "                     \"Fred\": \"Octavia\",\n",
    "                     \"Grace\": \"Yaris\",\n",
    "                     \"Hugh\": \"Clio\"}"
   ]
  },
  {
   "cell_type": "code",
   "execution_count": 36,
   "id": "24565ecd-31bb-485e-b676-6cd7ac0e4cd1",
   "metadata": {},
   "outputs": [],
   "source": [
    "proprietari_auto.update(nuovi_proprietari)"
   ]
  },
  {
   "cell_type": "code",
   "execution_count": 38,
   "id": "c48514bf-9741-4c0e-b042-ee220100714b",
   "metadata": {},
   "outputs": [
    {
     "data": {
      "text/plain": [
       "{'Ada': 'Punto',\n",
       " 'Ben': 'Polo',\n",
       " 'Charlie': 'Golf',\n",
       " 'Debbie': '107',\n",
       " 'Emily': 'A1',\n",
       " 'Fred': 'Octavia',\n",
       " 'Grace': 'Yaris',\n",
       " 'Hugh': 'Clio'}"
      ]
     },
     "execution_count": 38,
     "metadata": {},
     "output_type": "execute_result"
    }
   ],
   "source": [
    "proprietari_auto"
   ]
  },
  {
   "cell_type": "code",
   "execution_count": 41,
   "id": "5b3cd702-40ff-42a4-bbb0-d65f0d850794",
   "metadata": {},
   "outputs": [],
   "source": [
    "dati = [2, 5, 8, 10, 500, 20, -4]"
   ]
  },
  {
   "cell_type": "code",
   "execution_count": 43,
   "id": "b7e840ac-1092-4de5-a3b5-d756bdc888cd",
   "metadata": {},
   "outputs": [
    {
     "name": "stdout",
     "output_type": "stream",
     "text": [
      "Il minimo e -4 e il massimo e 500\n"
     ]
    }
   ],
   "source": [
    "minimo = min(dati)\n",
    "massimo = max(dati)\n",
    "print(f\"Il minimo e {minimo} e il massimo e {massimo}\")"
   ]
  },
  {
   "cell_type": "code",
   "execution_count": 46,
   "id": "05c9a3db-3e72-4b8a-a486-b771e773bb50",
   "metadata": {},
   "outputs": [],
   "source": [
    "dati = [2, 5, 8, 10, 500, 20, -4, 25, 60, 100, 105]"
   ]
  },
  {
   "cell_type": "code",
   "execution_count": 48,
   "id": "0fe7f1e0-83e6-4878-9e55-c83ee38e027f",
   "metadata": {},
   "outputs": [],
   "source": [
    "dati.sort()"
   ]
  },
  {
   "cell_type": "code",
   "execution_count": 50,
   "id": "61d7e458-b734-4e28-938e-e1f1f2006933",
   "metadata": {},
   "outputs": [
    {
     "data": {
      "text/plain": [
       "[-4, 2, 5, 8, 10, 20, 25, 60, 100, 105, 500]"
      ]
     },
     "execution_count": 50,
     "metadata": {},
     "output_type": "execute_result"
    }
   ],
   "source": [
    "dati"
   ]
  },
  {
   "cell_type": "code",
   "execution_count": 52,
   "id": "4def327c-6ac8-453b-a535-371f79421671",
   "metadata": {},
   "outputs": [
    {
     "data": {
      "text/plain": [
       "[100, 105, 500]"
      ]
     },
     "execution_count": 52,
     "metadata": {},
     "output_type": "execute_result"
    }
   ],
   "source": [
    "dati[-3:]"
   ]
  },
  {
   "cell_type": "code",
   "execution_count": 54,
   "id": "8a182bbf-6f63-4b64-9aa6-5b1920c41f49",
   "metadata": {},
   "outputs": [
    {
     "name": "stdout",
     "output_type": "stream",
     "text": [
      "I tre numeri piu grandi sono: [100, 105, 500]\n"
     ]
    }
   ],
   "source": [
    "dati = [2, 5, 8, 10, 500, 20, -4, 25, 60, 100, 105]\n",
    "dati.sort()\n",
    "tre_massimi = dati[-3:]\n",
    "\n",
    "print(\"I tre numeri piu grandi sono:\", tre_massimi)"
   ]
  },
  {
   "cell_type": "code",
   "execution_count": 58,
   "id": "0bb6950b-4de8-49be-9caa-ec10974efbac",
   "metadata": {},
   "outputs": [
    {
     "name": "stdout",
     "output_type": "stream",
     "text": [
      "Ci sono meno di 3 valori\n",
      "I numeri piu grandi sono: [2, 5]\n"
     ]
    }
   ],
   "source": [
    "dati = [2, 5] #, 8, 10, 500, 20, -4, 25, 60, 100, 105]\n",
    "\n",
    "if len(dati) > 3:\n",
    "    dati.sort()\n",
    "    tre_massimi = dati[-3:]\n",
    "    print(\"I tre numeri piu grandi sono:\", tre_massimi)\n",
    "else:\n",
    "    print(\"Ci sono meno di 3 valori\")\n",
    "    print(\"I numeri piu grandi sono:\", dati)"
   ]
  },
  {
   "cell_type": "code",
   "execution_count": 61,
   "id": "d39a629f-6478-44a5-8800-61925d127855",
   "metadata": {},
   "outputs": [
    {
     "data": {
      "text/plain": [
       "5"
      ]
     },
     "execution_count": 61,
     "metadata": {},
     "output_type": "execute_result"
    }
   ],
   "source": [
    "max(dati)"
   ]
  },
  {
   "cell_type": "code",
   "execution_count": 63,
   "id": "1d3959a2-1a6d-4a40-8ddd-ae67fb95e33b",
   "metadata": {},
   "outputs": [],
   "source": [
    "dati = [2, 5, 8, 10, 500, 20, -4, 25, 60, 100, 105]"
   ]
  },
  {
   "cell_type": "code",
   "execution_count": 67,
   "id": "cc421fd1-fde1-4403-8d55-68d98b417b6d",
   "metadata": {},
   "outputs": [
    {
     "data": {
      "text/plain": [
       "500"
      ]
     },
     "execution_count": 67,
     "metadata": {},
     "output_type": "execute_result"
    }
   ],
   "source": [
    "max(dati)"
   ]
  },
  {
   "cell_type": "code",
   "execution_count": 69,
   "id": "9611a42a-ea64-4d03-b340-7305540bf690",
   "metadata": {},
   "outputs": [
    {
     "name": "stdout",
     "output_type": "stream",
     "text": [
      "Help on built-in function sort:\n",
      "\n",
      "sort(*, key=None, reverse=False) method of builtins.list instance\n",
      "    Sort the list in ascending order and return None.\n",
      "\n",
      "    The sort is in-place (i.e. the list itself is modified) and stable (i.e. the\n",
      "    order of two equal elements is maintained).\n",
      "\n",
      "    If a key function is given, apply it once to each list item and sort them,\n",
      "    ascending or descending, according to their function values.\n",
      "\n",
      "    The reverse flag can be set to sort in descending order.\n",
      "\n"
     ]
    }
   ],
   "source": [
    "help(dati.sort)"
   ]
  },
  {
   "cell_type": "code",
   "execution_count": 75,
   "id": "5169deff-eec9-4f2c-adf8-8237d29c57c5",
   "metadata": {},
   "outputs": [],
   "source": [
    "dati.sort(reverse=True)"
   ]
  },
  {
   "cell_type": "code",
   "execution_count": 77,
   "id": "83b8e109-c4fe-4231-8ed2-a6d5791b5c83",
   "metadata": {},
   "outputs": [
    {
     "data": {
      "text/plain": [
       "[500, 105, 100, 60, 25, 20, 10, 8, 5, 2, -4]"
      ]
     },
     "execution_count": 77,
     "metadata": {},
     "output_type": "execute_result"
    }
   ],
   "source": [
    "dati\n"
   ]
  },
  {
   "cell_type": "code",
   "execution_count": 80,
   "id": "0f95c162-4495-4443-bffd-30102612fee9",
   "metadata": {},
   "outputs": [
    {
     "name": "stdout",
     "output_type": "stream",
     "text": [
      "Help on built-in function print in module builtins:\n",
      "\n",
      "print(*args, sep=' ', end='\\n', file=None, flush=False)\n",
      "    Prints the values to a stream, or to sys.stdout by default.\n",
      "\n",
      "    sep\n",
      "      string inserted between values, default a space.\n",
      "    end\n",
      "      string appended after the last value, default a newline.\n",
      "    file\n",
      "      a file-like object (stream); defaults to the current sys.stdout.\n",
      "    flush\n",
      "      whether to forcibly flush the stream.\n",
      "\n"
     ]
    }
   ],
   "source": [
    "help(print)"
   ]
  },
  {
   "cell_type": "code",
   "execution_count": 83,
   "id": "bb33f51b-951e-49d3-a5e8-f476aaa2c591",
   "metadata": {},
   "outputs": [
    {
     "name": "stdout",
     "output_type": "stream",
     "text": [
      "*****\n",
      "**\n",
      "***\n",
      "****\n"
     ]
    }
   ],
   "source": [
    "numeri = [5, 2, 3, 4]\n",
    "\n",
    "for numero in numeri:\n",
    "    print(\"*\"*numero)"
   ]
  },
  {
   "cell_type": "code",
   "execution_count": 86,
   "id": "7e2a9447-e9f6-4b21-b878-d01311e7624d",
   "metadata": {},
   "outputs": [],
   "source": [
    "lista_cf = [\"ABCDEF95G01A123B\", \n",
    "            \"GHIJKL91M02A321C\", \n",
    "            \"MNOPQR89S03A456D\", \n",
    "            \"STUVWX95Z04A654E\", \n",
    "            \"XYZABC01D05A789F\", \n",
    "            \"DEFGHI95J06A987G\"]\n",
    "\n"
   ]
  },
  {
   "cell_type": "code",
   "execution_count": 96,
   "id": "4b7ce7fa-ca94-4293-a163-c22ae681edee",
   "metadata": {},
   "outputs": [
    {
     "name": "stdout",
     "output_type": "stream",
     "text": [
      "['ABCDEF95G01A123B', 'STUVWX95Z04A654E', 'DEFGHI95J06A987G']\n"
     ]
    }
   ],
   "source": [
    "lista_cf_95 = [] #init\n",
    "for cf in lista_cf:\n",
    "    if \"95\" in cf:\n",
    "        lista_cf_95.append(cf)\n",
    "        \n",
    "print(lista_cf_95)"
   ]
  },
  {
   "cell_type": "code",
   "execution_count": 93,
   "id": "063dfe3d-bc0b-42ca-a4f9-3fee1917f24a",
   "metadata": {},
   "outputs": [
    {
     "name": "stdout",
     "output_type": "stream",
     "text": [
      "Nome: ABC\n",
      "Cognome: DEF\n",
      "Nome: STU\n",
      "Cognome: VWX\n",
      "Nome: DEF\n",
      "Cognome: GHI\n"
     ]
    }
   ],
   "source": [
    "for cf in lista_cf_95:\n",
    "    print(\"Nome:\",cf[:3])\n",
    "    print(\"Cognome:\", cf[3:6])"
   ]
  },
  {
   "cell_type": "code",
   "execution_count": 100,
   "id": "56a2c82a-2405-4969-a789-c3920874696f",
   "metadata": {},
   "outputs": [
    {
     "name": "stdout",
     "output_type": "stream",
     "text": [
      "Alex\n",
      "Faith\n"
     ]
    }
   ],
   "source": [
    "studenti = [\"Alex\", \"Bob\", \"Cindy\", \"Dan\", \"Emma\", \"Faith\", \"Grace\", \"Henry\"] \n",
    "edizioni = [1, 2, 3, 2, 2, 1, 3, 3] \n",
    "\n",
    "for i in range(len(studenti)):\n",
    "    studente = studenti[i]\n",
    "    edizione = edizioni[i]\n",
    "    if edizione == 1:\n",
    "        print(studente)"
   ]
  },
  {
   "cell_type": "code",
   "execution_count": 104,
   "id": "c21b53c0-5511-4510-8c3f-89111d68375d",
   "metadata": {},
   "outputs": [
    {
     "name": "stdout",
     "output_type": "stream",
     "text": [
      "['100 $', '200 $', '500 $', '10 $', '50 $', '70 $']\n"
     ]
    }
   ],
   "source": [
    "prezzi = [\"100 €\", \"200 €\", \"500 €\", \"10 €\", \"50 €\", \"70 €\"] \n",
    "prezzi_corretti = [] #init\n",
    "\n",
    "for prezzo in prezzi:\n",
    "    prezzo_corretto = prezzo.replace(\"€\", \"$\")\n",
    "    prezzi_corretti.append(prezzo_corretto)\n",
    "\n",
    "print(prezzi_corretti)"
   ]
  },
  {
   "cell_type": "code",
   "execution_count": 108,
   "id": "9cda9ec5-e89f-4101-a554-05f7346fc379",
   "metadata": {},
   "outputs": [],
   "source": [
    "studenti = [\"Alex\", \"Bob\", \"Cindy\", \"Dan\", \"Emma\", \"Faith\", \"Grace\", \"Henry\", \"Isabelle\", \"John\"] "
   ]
  },
  {
   "cell_type": "code",
   "execution_count": 110,
   "id": "0ce3f3d0-091e-43d6-b508-0d16743d4e2e",
   "metadata": {},
   "outputs": [
    {
     "data": {
      "text/plain": [
       "['Alex', 'Cindy', 'Emma', 'Grace', 'Isabelle']"
      ]
     },
     "execution_count": 110,
     "metadata": {},
     "output_type": "execute_result"
    }
   ],
   "source": [
    "studenti[::2]"
   ]
  },
  {
   "cell_type": "code",
   "execution_count": 112,
   "id": "dc7566f2-93d2-42c2-9ba4-54d344fc7853",
   "metadata": {},
   "outputs": [
    {
     "data": {
      "text/plain": [
       "['Bob', 'Dan', 'Faith', 'Henry', 'John']"
      ]
     },
     "execution_count": 112,
     "metadata": {},
     "output_type": "execute_result"
    }
   ],
   "source": [
    "studenti[1::2]"
   ]
  },
  {
   "cell_type": "code",
   "execution_count": 132,
   "id": "28d1acdb-b77e-491c-8b6e-c6a44e1b646f",
   "metadata": {},
   "outputs": [],
   "source": [
    "guadagni = [100, 90, 70, 40, 50, 80, 90, 120, 80, 20, 50, 50] "
   ]
  },
  {
   "cell_type": "code",
   "execution_count": 119,
   "id": "d894b629-9b47-45c2-9494-d9753afdf052",
   "metadata": {},
   "outputs": [
    {
     "ename": "SyntaxError",
     "evalue": "expected ':' (1793031128.py, line 2)",
     "output_type": "error",
     "traceback": [
      "\u001b[1;36m  Cell \u001b[1;32mIn[119], line 2\u001b[1;36m\u001b[0m\n\u001b[1;33m    for guadagno in guadagni\u001b[0m\n\u001b[1;37m                            ^\u001b[0m\n\u001b[1;31mSyntaxError\u001b[0m\u001b[1;31m:\u001b[0m expected ':'\n"
     ]
    }
   ],
   "source": [
    "print(\"Mese 1:\", guadagni[0], \"€\")\n",
    "for guadagno in guadagni"
   ]
  },
  {
   "cell_type": "code",
   "execution_count": 138,
   "id": "e5865e61-4890-4a67-9fa8-e0e4462a9194",
   "metadata": {},
   "outputs": [
    {
     "name": "stdout",
     "output_type": "stream",
     "text": [
      "Mese 1: 100 €\n",
      "Mese 2: 90 € (media prec: 100.0 €) - il guadagno attuale e minore\n",
      "Mese 3: 70 € (media prec: 95.0 €) - il guadagno attuale e minore\n",
      "Mese 4: 40 € (media prec: 86.67 €) - il guadagno attuale e minore\n",
      "Mese 5: 50 € (media prec: 75.0 €) - il guadagno attuale e minore\n",
      "Mese 6: 80 € (media prec: 70.0 €) - il guadagno attuale e maggiore\n",
      "Mese 7: 90 € (media prec: 71.67 €) - il guadagno attuale e maggiore\n",
      "Mese 8: 120 € (media prec: 74.29 €) - il guadagno attuale e maggiore\n",
      "Mese 9: 80 € (media prec: 80.0 €) - il guadagno attuale e maggiore\n",
      "Mese 10: 20 € (media prec: 80.0 €) - il guadagno attuale e minore\n",
      "Mese 11: 50 € (media prec: 74.0 €) - il guadagno attuale e minore\n",
      "Mese 12: 50 € (media prec: 71.82 €) - il guadagno attuale e minore\n"
     ]
    },
    {
     "ename": "IndexError",
     "evalue": "list index out of range",
     "output_type": "error",
     "traceback": [
      "\u001b[1;31m---------------------------------------------------------------------------\u001b[0m",
      "\u001b[1;31mIndexError\u001b[0m                                Traceback (most recent call last)",
      "Cell \u001b[1;32mIn[138], line 10\u001b[0m\n\u001b[0;32m      8\u001b[0m media \u001b[38;5;241m=\u001b[39m somma \u001b[38;5;241m/\u001b[39m numero_mese\n\u001b[0;32m      9\u001b[0m media \u001b[38;5;241m=\u001b[39m \u001b[38;5;28mround\u001b[39m(media, \u001b[38;5;241m2\u001b[39m)\n\u001b[1;32m---> 10\u001b[0m guadagno_attuale \u001b[38;5;241m=\u001b[39m guadagni[numero_mese]\n\u001b[0;32m     11\u001b[0m \u001b[38;5;28mprint\u001b[39m(\u001b[38;5;124mf\u001b[39m\u001b[38;5;124m\"\u001b[39m\u001b[38;5;124mMese \u001b[39m\u001b[38;5;132;01m{\u001b[39;00mnumero_mese\u001b[38;5;241m+\u001b[39m\u001b[38;5;241m1\u001b[39m\u001b[38;5;132;01m}\u001b[39;00m\u001b[38;5;124m: \u001b[39m\u001b[38;5;132;01m{\u001b[39;00mguadagno_attuale\u001b[38;5;132;01m}\u001b[39;00m\u001b[38;5;124m € (media prec: \u001b[39m\u001b[38;5;132;01m{\u001b[39;00mmedia\u001b[38;5;132;01m}\u001b[39;00m\u001b[38;5;124m €)\u001b[39m\u001b[38;5;124m\"\u001b[39m, end\u001b[38;5;241m=\u001b[39m\u001b[38;5;124m\"\u001b[39m\u001b[38;5;124m\"\u001b[39m)\n\u001b[0;32m     12\u001b[0m \u001b[38;5;28;01mif\u001b[39;00m guadagno_attuale \u001b[38;5;241m<\u001b[39m media:\n",
      "\u001b[1;31mIndexError\u001b[0m: list index out of range"
     ]
    }
   ],
   "source": [
    "somma = 0 #init\n",
    "\n",
    "for numero_mese in range(len(guadagni)+1):\n",
    "    if numero_mese == 0:\n",
    "        print(\"Mese 1:\", guadagni[0], \"€\")\n",
    "    else: # dal secondo mese in poi\n",
    "        somma += guadagni[numero_mese-1]\n",
    "        media = somma / numero_mese\n",
    "        media = round(media, 2)\n",
    "        guadagno_attuale = guadagni[numero_mese]\n",
    "        print(f\"Mese {numero_mese+1}: {guadagno_attuale} € (media prec: {media} €)\", end=\"\")\n",
    "        if guadagno_attuale < media:\n",
    "            print(\" - il guadagno attuale e minore\")\n",
    "        else:\n",
    "            print(\" - il guadagno attuale e maggiore\")"
   ]
  },
  {
   "cell_type": "code",
   "execution_count": null,
   "id": "83bdb546-8c5c-41c1-a058-e9d56822b52b",
   "metadata": {},
   "outputs": [],
   "source": []
  }
 ],
 "metadata": {
  "kernelspec": {
   "display_name": "Python [conda env:base] *",
   "language": "python",
   "name": "conda-base-py"
  },
  "language_info": {
   "codemirror_mode": {
    "name": "ipython",
    "version": 3
   },
   "file_extension": ".py",
   "mimetype": "text/x-python",
   "name": "python",
   "nbconvert_exporter": "python",
   "pygments_lexer": "ipython3",
   "version": "3.12.7"
  }
 },
 "nbformat": 4,
 "nbformat_minor": 5
}
