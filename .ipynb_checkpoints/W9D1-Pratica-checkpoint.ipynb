{
 "cells": [
  {
   "cell_type": "code",
   "execution_count": 3,
   "id": "1d737939-181e-4df4-8527-74bc29079b4a",
   "metadata": {},
   "outputs": [],
   "source": [
    "# Abbiamo 25 studenti; memorizzare questo dato in una variabile.\n",
    "studenti = 25"
   ]
  },
  {
   "cell_type": "code",
   "execution_count": 18,
   "id": "8cd11935-5ab2-4de4-9109-e9e61bf3dd23",
   "metadata": {},
   "outputs": [
    {
     "name": "stdout",
     "output_type": "stream",
     "text": [
      "Il numero di studenti è: 25\n"
     ]
    }
   ],
   "source": [
    "#Abbiamo 25 studenti; memorizzare questo dato in una variabile e stamparla a video.\n",
    "studenti = 25\n",
    "print(\"Il numero di studenti è:\", studenti)"
   ]
  },
  {
   "cell_type": "code",
   "execution_count": 12,
   "id": "f2ab0bc5-9ee6-48e2-9a91-eaa7863324e6",
   "metadata": {},
   "outputs": [],
   "source": [
    "#Abbiamo 25 studenti; memorizzare questo dato in una variabile. \n",
    "#Arrivano altri 3 studenti; memorizzare questo dato in un'altra variabile.\n",
    "studenti_attuali = 25\n",
    "studenti_aggiuntivi = 3"
   ]
  },
  {
   "cell_type": "code",
   "execution_count": 16,
   "id": "89e9fc17-52ff-431d-8348-298d74767a17",
   "metadata": {},
   "outputs": [
    {
     "name": "stdout",
     "output_type": "stream",
     "text": [
      "Il totale degli studenti è: 28\n"
     ]
    }
   ],
   "source": [
    "#Abbiamo 25 studenti; memorizzare questo dato in una variabile. \n",
    "#Arrivano altri 3 studenti; memorizzare questo dato in un'altra variabile. \n",
    "#Creare un'altra variabile ancora che conterrà la somma delle prime due, poi stamparla a video.\n",
    "studenti_attuali = 25\n",
    "studenti_aggiuntivi = 3\n",
    "studenti_totali = studenti_attuali + studenti_aggiuntivi\n",
    "print(\"Il totale degli studenti è:\", studenti_totali)\n"
   ]
  },
  {
   "cell_type": "code",
   "execution_count": 20,
   "id": "f982cd5d-17eb-4c15-aaa6-16821023008f",
   "metadata": {},
   "outputs": [
    {
     "name": "stdout",
     "output_type": "stream",
     "text": [
      "Epicode\n"
     ]
    }
   ],
   "source": [
    "#Creare una variabile che contiene la stringa \"Epicode\", quindi stamparla a video.\n",
    "nome = \"Epicode\"\n",
    "print(nome) \n"
   ]
  },
  {
   "cell_type": "code",
   "execution_count": 22,
   "id": "aeae6bf0-d1c3-4db3-b3e8-f6d7c23d95fe",
   "metadata": {},
   "outputs": [
    {
     "name": "stdout",
     "output_type": "stream",
     "text": [
      "36\n"
     ]
    }
   ],
   "source": [
    "#Abbiamo la variabile: \n",
    "#x = 10 \n",
    "#Incrementarla di 2 e poi moltiplicarla per 3 \n",
    "#Usare due metodi diversi (ad esempio, uno utilizzando gli operatori di assegnazione, e uno senza)\n",
    "\n",
    "#Metodo 1: Usando gli operatori di assegnazione\n",
    "\n",
    "x = 10\n",
    "x += 2 #incremento di 2\n",
    "x *= 3 # moltiplicazione per 3\n",
    "print(x)"
   ]
  },
  {
   "cell_type": "code",
   "execution_count": 24,
   "id": "2a31b63b-7da7-4bec-8bae-721e5204e262",
   "metadata": {},
   "outputs": [
    {
     "name": "stdout",
     "output_type": "stream",
     "text": [
      "36\n"
     ]
    }
   ],
   "source": [
    "#Metodo 2: Senza operatori di assegnazione\n",
    "x = 10\n",
    "x = (x + 2) * 3\n",
    "print(x)"
   ]
  },
  {
   "cell_type": "code",
   "execution_count": 26,
   "id": "35777517-57d8-4280-9b74-8fea8f480d32",
   "metadata": {},
   "outputs": [],
   "source": [
    "#Verificare, per ognuna delle seguenti stringhe, se il numero di caratteri è compreso tra 5 e 8: \n",
    "#• str1 = \"Windows\" \n",
    "#• str2 = \"Excel\" \n",
    "#• str3 = \"Powerpoint\" \n",
    "#• str4 = \"Word\"\n",
    "\n",
    "str1 = \"Windows\"  \n",
    "str2 = \"Excel\"  \n",
    "str3 = \"Powerpoint\"  \n",
    "str4 = \"Word\"\n",
    "\n",
    "def verifica_lunghezza(stringa):\n",
    "    lunghezza = len(stringa)\n",
    "    if 5 <= lunghezza <= 8:\n",
    "        return True\n",
    "    else:\n",
    "        return False\n",
    "        "
   ]
  },
  {
   "cell_type": "code",
   "execution_count": 38,
   "id": "8e2eaaf4-f575-4321-973d-0b864e6b63c2",
   "metadata": {},
   "outputs": [
    {
     "name": "stdout",
     "output_type": "stream",
     "text": [
      "Windows ha lunghezza tra 5 e 8? True\n"
     ]
    }
   ],
   "source": [
    "print(f\"{str1} ha lunghezza tra 5 e 8? {verifica_lunghezza(str1)}\")"
   ]
  },
  {
   "cell_type": "code",
   "execution_count": 40,
   "id": "715282cc-21ba-483c-9207-17c7a698e231",
   "metadata": {},
   "outputs": [
    {
     "name": "stdout",
     "output_type": "stream",
     "text": [
      "Excel ha lunghezza tra 5 e 8? True\n"
     ]
    }
   ],
   "source": [
    "print(f\"{str2} ha lunghezza tra 5 e 8? {verifica_lunghezza(str2)}\")"
   ]
  },
  {
   "cell_type": "code",
   "execution_count": 42,
   "id": "66ce42c5-f588-48d9-8ab6-fe6dde612f2f",
   "metadata": {},
   "outputs": [
    {
     "name": "stdout",
     "output_type": "stream",
     "text": [
      "Powerpoint ha lunghezza tra 5 e 8? False\n"
     ]
    }
   ],
   "source": [
    "print(f\"{str3} ha lunghezza tra 5 e 8? {verifica_lunghezza(str3)}\")"
   ]
  },
  {
   "cell_type": "code",
   "execution_count": 44,
   "id": "b93e8d7e-00df-47bf-898a-1734ebbca8f5",
   "metadata": {},
   "outputs": [
    {
     "name": "stdout",
     "output_type": "stream",
     "text": [
      "Word ha lunghezza tra 5 e 8? False\n"
     ]
    }
   ],
   "source": [
    "print(f\"{str4} ha lunghezza tra 5 e 8? {verifica_lunghezza(str4)}\")"
   ]
  },
  {
   "cell_type": "code",
   "execution_count": 76,
   "id": "5251f16b-26de-4d3e-a8af-118e61ca9098",
   "metadata": {},
   "outputs": [
    {
     "name": "stdout",
     "output_type": "stream",
     "text": [
      "In un anno non bisestile ci sono 31622400 secondi.\n"
     ]
    }
   ],
   "source": [
    "#Calcolare e stampare a video quanti secondi ci sono in un anno non bisestile.\n",
    "#Metodo 1\n",
    "giorni_anno_bisestile = 366\n",
    "ore_giorno = 24\n",
    "minuti_ora = 60\n",
    "secondi_minuto = 60\n",
    "\n",
    "secondi_anno = giorni_anno_bisestile * ore_giorno * minuti_ora * secondi_minuto\n",
    "\n",
    "print(\"In un anno non bisestile ci sono\", secondi_anno,\"secondi.\")"
   ]
  },
  {
   "cell_type": "code",
   "execution_count": 74,
   "id": "7762d7c4-7cd3-4d49-b145-b34d0a25cf7b",
   "metadata": {},
   "outputs": [
    {
     "name": "stdout",
     "output_type": "stream",
     "text": [
      "In un anno non bisestile ci sono 31622400 secondi.\n"
     ]
    }
   ],
   "source": [
    "#Metodo 2 avec les variables\n",
    "giorni = 366\n",
    "ore = giorni * 24\n",
    "minuti = ore * 60\n",
    "secondi = minuti * 60\n",
    "\n",
    "print(f\"In un anno non bisestile ci sono {secondi} secondi.\")\n"
   ]
  },
  {
   "cell_type": "code",
   "execution_count": 72,
   "id": "1242b518-fa86-41cc-b70f-a7138d22585f",
   "metadata": {},
   "outputs": [
    {
     "name": "stdout",
     "output_type": "stream",
     "text": [
      "In un anno non bisestile ci sono 31622400 secondi.\n"
     ]
    }
   ],
   "source": [
    "#Metodo 3 \n",
    "\n",
    "print(\"In un anno non bisestile ci sono\", 366 * 24 * 60 * 60, \"secondi.\")\n"
   ]
  },
  {
   "cell_type": "code",
   "execution_count": 70,
   "id": "1155319a-9247-4ee3-b202-6ba8d38d2610",
   "metadata": {},
   "outputs": [
    {
     "name": "stdout",
     "output_type": "stream",
     "text": [
      "In un anno non bisestile ci sono 31622400 secondi.\n"
     ]
    }
   ],
   "source": [
    "#Metodo 4:\n",
    "def calcol_secondi_anno_bisestile(giorni):\n",
    "    ore = giorni * 24\n",
    "    minuti = ore * 60\n",
    "    secondi = minuti * 60\n",
    "    return secondi\n",
    "\n",
    "secondi_anno = calcol_secondi_anno_bisestile(366)\n",
    "print(\"In un anno non bisestile ci sono\", secondi_anno,\"secondi.\")"
   ]
  },
  {
   "cell_type": "code",
   "execution_count": 68,
   "id": "4f9d5fcd-f2de-43b3-8a7b-bd8221767465",
   "metadata": {},
   "outputs": [
    {
     "name": "stdout",
     "output_type": "stream",
     "text": [
      "31622400\n"
     ]
    }
   ],
   "source": [
    "#Metodo 5\n",
    "from datetime import timedelta\n",
    "\n",
    "# Creiamo un oggetto timedelta di 366 giorni\n",
    "secondi_annuali = timedelta(days=366).total_seconds()\n",
    "\n",
    "# Stampiamo il risultato convertendolo in intero\n",
    "print(int(secondi_annuali))"
   ]
  },
  {
   "cell_type": "code",
   "execution_count": 66,
   "id": "4b779d78-a2c1-4656-9539-1e51424ef0b0",
   "metadata": {},
   "outputs": [
    {
     "name": "stdout",
     "output_type": "stream",
     "text": [
      "31622400\n"
     ]
    }
   ],
   "source": [
    "#Metodo 6\n",
    "from datetime import datetime\n",
    "\n",
    "# Definiamo l'inizio e la fine dell'anno\n",
    "inizio_anno = datetime(2024, 1, 1, 00, 00, 00)  # 1 gennaio 2024\n",
    "fine_anno = datetime(2024, 12, 31, 23, 59, 59)  # 31 dicembre 2024 23:59:59\n",
    "\n",
    "# Calcoliamo la differenza di tempo tra le due date\n",
    "differenza = fine_anno - inizio_anno\n",
    "\n",
    "# Stampiamo il numero totale di secondi\n",
    "print(int(differenza.total_seconds()) + 1)  # +1 per includere l'ultimo secondo"
   ]
  },
  {
   "cell_type": "code",
   "execution_count": 78,
   "id": "53ae14cc-adba-48a7-96d7-e9120c714d68",
   "metadata": {},
   "outputs": [
    {
     "name": "stdout",
     "output_type": "stream",
     "text": [
      "31622400\n",
      "31536000\n"
     ]
    }
   ],
   "source": [
    "#Metodo 7\n",
    "from datetime import datetime, timedelta\n",
    "\n",
    "def secondi_in_anno(anno):\n",
    "    # Verifica se l'anno è bisestile\n",
    "    e_bisestile = (anno % 4 == 0 and anno % 100 != 0) or (anno % 400 == 0)\n",
    "    giorni = 366 if e_bisestile else 365\n",
    "    return int(timedelta(days=giorni).total_seconds())\n",
    "\n",
    "# Test con anni diversi\n",
    "print(secondi_in_anno(2024))  # Output: 31622400 (anno bisestile)\n",
    "print(secondi_in_anno(2023))  # Output: 31536000 (anno non bisestile)"
   ]
  },
  {
   "cell_type": "code",
   "execution_count": 82,
   "id": "30146146-de73-4530-8302-d00fee28c36b",
   "metadata": {},
   "outputs": [
    {
     "name": "stdout",
     "output_type": "stream",
     "text": [
      "Secondi nell'anno 2024: 31622400\n"
     ]
    }
   ],
   "source": [
    "#Metodo 8\n",
    "def is_bisestile(anno):\n",
    "    \"\"\"Verifica se un anno è bisestile.\"\"\"\n",
    "    return anno % 4 == 0 and (anno % 100 != 0 or anno % 400 == 0)\n",
    "\n",
    "def calcola_secondi_anno(anno):\n",
    "    \"\"\"Calcola i secondi in un anno.\"\"\"\n",
    "    giorni = 366 if is_bisestile(anno) else 365\n",
    "    return giorni * 24 * 60 * 60\n",
    "\n",
    "anno = 2024  # Esempio di anno\n",
    "secondi = calcola_secondi_anno(anno)\n",
    "print(f\"Secondi nell'anno {anno}: {secondi}\")"
   ]
  },
  {
   "cell_type": "code",
   "execution_count": 86,
   "id": "72813199-93ec-42fc-bac0-621f75e26b08",
   "metadata": {},
   "outputs": [
    {
     "name": "stdout",
     "output_type": "stream",
     "text": [
      "I AM STUDYING PYTHON\n"
     ]
    }
   ],
   "source": [
    "#Abbiamo la seguente stringa: \n",
    "#   my_string = \"I am studying Python\" \n",
    "#• Trasformarla in modo che tutti i caratteri siano maiuscoli (uppercase) \n",
    "#• Trasformarla in modo che tutti i caratteri siano minuscoli (lowercase) \n",
    "#• Sostituire la sottostringa \"Python\" con la stringa \"a lot\" \n",
    "#• Usare il metodo .strip(); cambia qualcosa? Perché?\n",
    "\n",
    "#• Trasformarla in modo che tutti i caratteri siano maiuscoli (uppercase) \n",
    "my_string = \"I am studying Python\" \n",
    "x = my_string.upper()\n",
    "print(x)"
   ]
  },
  {
   "cell_type": "code",
   "execution_count": 88,
   "id": "2f2df194-fa3b-47be-b41a-6e3fa1ae6f3b",
   "metadata": {},
   "outputs": [
    {
     "name": "stdout",
     "output_type": "stream",
     "text": [
      "i am studying python\n"
     ]
    }
   ],
   "source": [
    "#• Trasformarla in modo che tutti i caratteri siano minuscoli (lowercase) \n",
    "x = my_string.casefold()\n",
    "print(x)"
   ]
  },
  {
   "cell_type": "code",
   "execution_count": 90,
   "id": "fcf99844-8bfd-47b4-beb1-21d069d8f96f",
   "metadata": {},
   "outputs": [
    {
     "name": "stdout",
     "output_type": "stream",
     "text": [
      "I am studying a lot\n"
     ]
    }
   ],
   "source": [
    "#• Sostituire la sottostringa \"Python\" con la stringa \"a lot\" \n",
    "x = my_string.replace(\"Python\",\"a lot\")\n",
    "print(x)"
   ]
  },
  {
   "cell_type": "code",
   "execution_count": 114,
   "id": "859584d0-267f-4c8d-887e-80cde20f64c3",
   "metadata": {},
   "outputs": [
    {
     "name": "stdout",
     "output_type": "stream",
     "text": [
      "I am studying Python\n",
      "False\n"
     ]
    }
   ],
   "source": [
    "#• Usare il metodo .strip(); cambia qualcosa? Perché?\n",
    "x = my_string.strip()\n",
    "print(x)\n",
    "print (my_string == x)\n",
    "\n",
    "#.strip() rimuove solo gli spazi bianchi all'inizio e alla fine di una stringa. \n",
    "#Poiché my_string non ha spazi bianchi di questo tipo, la stringa rimane invariata."
   ]
  },
  {
   "cell_type": "code",
   "execution_count": 108,
   "id": "fb24a3a5-1daf-4127-9139-824649f3a0f7",
   "metadata": {},
   "outputs": [
    {
     "name": "stdout",
     "output_type": "stream",
     "text": [
      "I am studying Python\n"
     ]
    }
   ],
   "source": [
    "my_string = \"  I am studying Python   \"\n",
    "x = my_string.strip()\n",
    "print(x)\n"
   ]
  },
  {
   "cell_type": "code",
   "execution_count": 112,
   "id": "082825e8-0782-4a46-bed6-8b76586e9a19",
   "metadata": {},
   "outputs": [
    {
     "name": "stdout",
     "output_type": "stream",
     "text": [
      "  I am studying Python   \n"
     ]
    }
   ],
   "source": [
    "print(my_string)"
   ]
  },
  {
   "cell_type": "code",
   "execution_count": null,
   "id": "e2af5e92-b377-4aa6-97b4-f86dda8a8bd1",
   "metadata": {},
   "outputs": [],
   "source": []
  }
 ],
 "metadata": {
  "kernelspec": {
   "display_name": "Python [conda env:base] *",
   "language": "python",
   "name": "conda-base-py"
  },
  "language_info": {
   "codemirror_mode": {
    "name": "ipython",
    "version": 3
   },
   "file_extension": ".py",
   "mimetype": "text/x-python",
   "name": "python",
   "nbconvert_exporter": "python",
   "pygments_lexer": "ipython3",
   "version": "3.12.7"
  }
 },
 "nbformat": 4,
 "nbformat_minor": 5
}
