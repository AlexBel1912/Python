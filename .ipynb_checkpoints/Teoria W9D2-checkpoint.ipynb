{
 "cells": [
  {
   "cell_type": "code",
   "execution_count": 1,
   "id": "7417dffe-1b35-4cee-8953-67eaee54ab66",
   "metadata": {},
   "outputs": [],
   "source": [
    "#Costrutto logico condizionale\n",
    "x = 5\n",
    "y = 7\n",
    "if x > y:\n",
    "    print(\"x e minore di y\")"
   ]
  },
  {
   "cell_type": "code",
   "execution_count": 16,
   "id": "1dd817a7-6abe-4ae8-baa7-cb029268a781",
   "metadata": {},
   "outputs": [],
   "source": [
    "eta = 17\n",
    "if 17 >= eta >= 19:\n",
    "    print(\"idoneo per il torneo\")"
   ]
  },
  {
   "cell_type": "code",
   "execution_count": 3,
   "id": "7b43d2de-17d4-4d23-967f-b57b958e142b",
   "metadata": {},
   "outputs": [
    {
     "name": "stdout",
     "output_type": "stream",
     "text": [
      "y e maggiore (o uguale) a x\n"
     ]
    }
   ],
   "source": [
    "x = 5\n",
    "y = 7\n",
    "if x > y:\n",
    "    print(\"x e minore di y\")\n",
    "else:\n",
    "    print(\"y e maggiore (o uguale) a x\")"
   ]
  },
  {
   "cell_type": "code",
   "execution_count": 5,
   "id": "23199692-aae5-4827-8aa6-4a79bec15374",
   "metadata": {},
   "outputs": [
    {
     "name": "stdout",
     "output_type": "stream",
     "text": [
      "non idoneo per il torneo\n"
     ]
    }
   ],
   "source": [
    "eta = 20\n",
    "if 17 <= eta <=19:\n",
    "    print(\"idoneo per il torneo\")\n",
    "else:\n",
    "    print(\"non idoneo per il torneo\")"
   ]
  },
  {
   "cell_type": "code",
   "execution_count": 7,
   "id": "9eca3936-6377-44b4-aecd-de64564cbbc0",
   "metadata": {},
   "outputs": [
    {
     "name": "stdout",
     "output_type": "stream",
     "text": [
      "Lo studente Claude e presente in classe\n"
     ]
    }
   ],
   "source": [
    "classe = [\"Ada\", \"Ben\", \"Claude\", \"Denise\", \"Emma\"]\n",
    "studente = \"Claude\"\n",
    "if studente in classe:\n",
    "    print(\"Lo studente\", studente, \"e presente in classe\")\n",
    "else:\n",
    "    print(\"Lo studente\", studente, \"non e presente in classe\")"
   ]
  },
  {
   "cell_type": "code",
   "execution_count": 9,
   "id": "7603785a-1d64-4173-982c-3b1e28fca827",
   "metadata": {},
   "outputs": [
    {
     "name": "stdout",
     "output_type": "stream",
     "text": [
      "L'ultima partita e finita in pareggio\n"
     ]
    }
   ],
   "source": [
    "risultati_partite = [\"1\", \"X\", \"1\", \"2\", \"X\", \"X\"]\n",
    "if risultati_partite[-1] == \"X\":\n",
    "    print(\"L'ultima partita e finita in pareggio\")\n",
    "else:\n",
    "    print(\"Nessun pareggio per l'ultima partita\")"
   ]
  },
  {
   "cell_type": "code",
   "execution_count": 15,
   "id": "448b6cc7-5033-4906-862f-dfb3fbfb0512",
   "metadata": {},
   "outputs": [
    {
     "name": "stdout",
     "output_type": "stream",
     "text": [
      "Nessun pareggio per l'ultima partita\n"
     ]
    }
   ],
   "source": [
    "#QUIZZONE - Se aggiungessimo l'istruzione: risultati_partite.append(\"2\") prima del blocco if, che cosa accadrebbe?\n",
    "\n",
    "risultati_partite = [\"1\", \"X\", \"1\", \"2\", \"X\", \"X\"]\n",
    "risultati_partite.append(\"2\")\n",
    "if risultati_partite[-1] == \"X\":\n",
    "    print(\"L'ultima partita e finita in pareggio\")\n",
    "else:\n",
    "    print(\"Nessun pareggio per l'ultima partita\")"
   ]
  },
  {
   "cell_type": "code",
   "execution_count": 17,
   "id": "02124d2b-ada7-4852-b54e-6e977b2f2aa8",
   "metadata": {},
   "outputs": [
    {
     "name": "stdout",
     "output_type": "stream",
     "text": [
      "Temperatura operativa ottimale\n"
     ]
    }
   ],
   "source": [
    "temperatura = 27\n",
    "if temperatura < 20:\n",
    "    print(\"accendere il circuito di riscaldamento\")\n",
    "elif temperatura > 30:\n",
    "    print(\"accendere il cuircuito di raffreddamento\")\n",
    "else:\n",
    "    print(\"Temperatura operativa ottimale\")"
   ]
  },
  {
   "cell_type": "code",
   "execution_count": 21,
   "id": "855f2d56-855b-4048-b716-8e5fc3eb68c7",
   "metadata": {},
   "outputs": [],
   "source": [
    "#se vogliamo gestire gli studenti iscritti a vari corsi\n",
    "iscritti_cybersecurity = 10\n",
    "iscritti_data_analyst = 20\n",
    "iscritti_frontend = 5\n",
    "iscritti_backend = 8\n",
    "nuova_iscrizione = \"Cybersecurity\"\n",
    "if nuova_iscrizione == \"Cybersecurity\":\n",
    "    iscritti_cybersecurity += 1\n",
    "elif nuova_iscrizione == \"Data_Analyst\":\n",
    "    iscritti_data_analyst += 1\n",
    "elif nuova_iscrizione == \"Frontend\":\n",
    "    iscritti_frontend += 1\n",
    "elif nuova_iscrizione == \"Backend\":\n",
    "    iscritti_backend += 1"
   ]
  },
  {
   "cell_type": "code",
   "execution_count": 23,
   "id": "eff4ee16-c775-4626-9ae1-e59c9a9c15af",
   "metadata": {},
   "outputs": [
    {
     "name": "stdout",
     "output_type": "stream",
     "text": [
      "Num ora e:  1 e la somma ora e:  1\n",
      "Num ora e:  2 e la somma ora e:  3\n",
      "Num ora e:  3 e la somma ora e:  6\n",
      "Num ora e:  4 e la somma ora e:  10\n",
      "Num ora e:  5 e la somma ora e:  15\n",
      "La somma finale dei primi 5 numeri e: 15\n"
     ]
    }
   ],
   "source": [
    "#Loops - sommiamo i primi cinque numeri\n",
    "num = 1 #init\n",
    "somma = 0 #init\n",
    "while num <= 5:\n",
    "    somma += num # esecuzione del calcolo\n",
    "    print(\"Num ora e: \", num, \"e la somma ora e: \", somma)\n",
    "    num += 1 # ci assicura che il ciclo finisca\n",
    "print(\"La somma finale dei primi 5 numeri e:\", somma)"
   ]
  },
  {
   "cell_type": "code",
   "execution_count": 25,
   "id": "07fc0e0c-983b-455e-94df-f32647158102",
   "metadata": {},
   "outputs": [
    {
     "name": "stdin",
     "output_type": "stream",
     "text": [
      "Inserisci un numero  20\n"
     ]
    },
    {
     "name": "stdout",
     "output_type": "stream",
     "text": [
      "La somma e:  60\n"
     ]
    }
   ],
   "source": [
    "# chiediamo all'utente di inserire dei numeri, e sommiamoli finché il valore della somma non esce dall'intervallo tra 0 e 50\n",
    "somma = 0 #init\n",
    "num = input(\"Inserisci un numero \") # prendiamo un numero in input dall'utente\n",
    "while 0 <= somma <= 50:\n",
    "    num = int(num) #casting\n",
    "    somma += num\n",
    "print(\"La somma e: \", somma)"
   ]
  },
  {
   "cell_type": "code",
   "execution_count": 29,
   "id": "6b9ec6c9-af3d-47a3-88be-653eca183f2c",
   "metadata": {},
   "outputs": [
    {
     "name": "stdout",
     "output_type": "stream",
     "text": [
      "I primi 10 numeri di Fibonacci sono: [1, 1, 2, 3, 5, 8, 13, 21, 34, 55]\n"
     ]
    }
   ],
   "source": [
    "#  calcolare i primi 10 numeri della sequenza di Fibonacci:\n",
    "numero1 = 1 #init\n",
    "numero2 = 1 #init\n",
    "fibo = [1, 1] #init - conterra i risultati\n",
    "conteggio = 3 # init - gia abbiamo i primi due!\n",
    "while conteggio <= 10:\n",
    "    prossimo_numero = numero1 + numero2 # calcolo\n",
    "    fibo.append(prossimo_numero) #raccolta dei risultati\n",
    "    numero1 = numero2 #aggiornamento\n",
    "    numero2 = prossimo_numero # aggiornamento\n",
    "    conteggio += 1 # ci assicura che il ciclo finisca\n",
    "print(\"I primi 10 numeri di Fibonacci sono:\", fibo)"
   ]
  },
  {
   "cell_type": "code",
   "execution_count": 31,
   "id": "b4d899cb-d10d-48ca-899b-54ae9fb184cb",
   "metadata": {},
   "outputs": [
    {
     "name": "stdout",
     "output_type": "stream",
     "text": [
      "I primi 10 numeri di Fibonacci sono: [1, 1, 2, 4, 8, 16, 32, 64, 128, 256]\n"
     ]
    }
   ],
   "source": [
    "# QUIZZONE: Cosa succede se invertiamo le istruzioni di aggiornamento da:    numero1 = numero2    numero2 = prossimo_numero a:    numero2 = prossimo_numero    numero1 = numero2\n",
    "numero1 = 1 #init\n",
    "numero2 = 1 #init\n",
    "fibo = [1, 1] #init - conterra i risultati\n",
    "conteggio = 3 # init - gia abbiamo i primi due!\n",
    "while conteggio <= 10:\n",
    "    prossimo_numero = numero1 + numero2 # calcolo\n",
    "    fibo.append(prossimo_numero) #raccolta dei risultati\n",
    "    numero2 = prossimo_numero # aggiornamento\n",
    "    numero1 = numero2 #aggiornamento\n",
    "    conteggio += 1 # ci assicura che il ciclo finisca\n",
    "print(\"I primi 10 numeri di Fibonacci sono:\", fibo)"
   ]
  },
  {
   "cell_type": "code",
   "execution_count": null,
   "id": "15747d3f-6259-4aeb-b510-73d5dd56db89",
   "metadata": {},
   "outputs": [],
   "source": [
    "# QUIZZONE Cosa succede se eliminiamo l'istruzione: conteggio += 1\n",
    "numero1 = 1 #init\n",
    "numero2 = 1 #init\n",
    "fibo = [1, 1] #init - conterra i risultati\n",
    "conteggio = 3 # init - gia abbiamo i primi due!\n",
    "while conteggio <= 10:\n",
    "    prossimo_numero = numero1 + numero2 # calcolo\n",
    "    fibo.append(prossimo_numero) #raccolta dei risultati\n",
    "    numero1 = numero2 #aggiornamento\n",
    "print(\"I primi 10 numeri di Fibonacci sono:\", fibo)"
   ]
  },
  {
   "cell_type": "code",
   "execution_count": 11,
   "id": "0903ff19-5492-426b-8686-47eefca0f22b",
   "metadata": {},
   "outputs": [
    {
     "name": "stdout",
     "output_type": "stream",
     "text": [
      "- 10\n",
      "- 20\n",
      "- 30\n",
      "- 40\n",
      "- 50\n"
     ]
    }
   ],
   "source": [
    "#for loop\n",
    "lista_prezzi = [10, 20, 30, 40, 50]\n",
    "for prezzo in lista_prezzi:\n",
    "    print(\"-\", prezzo)"
   ]
  },
  {
   "cell_type": "code",
   "execution_count": 9,
   "id": "e485d357-21d7-40d6-8e0c-68499d73e9b4",
   "metadata": {},
   "outputs": [
    {
     "name": "stdout",
     "output_type": "stream",
     "text": [
      "2\n",
      "8\n",
      "12\n",
      "14\n",
      "4\n",
      "16\n"
     ]
    }
   ],
   "source": [
    "insieme = 1, 4, 6, 7, 2, 8\n",
    "for numero in insieme:\n",
    "    print(numero * 2)"
   ]
  },
  {
   "cell_type": "code",
   "execution_count": 7,
   "id": "9f6f7dad-2f9d-458e-b6d8-446a843b480e",
   "metadata": {},
   "outputs": [
    {
     "name": "stdout",
     "output_type": "stream",
     "text": [
      "110\n",
      "210\n",
      "310\n",
      "410\n"
     ]
    }
   ],
   "source": [
    "stipendi = [100, 200, 300, 400]\n",
    "for stipendio in stipendi:\n",
    "    print(stipendio + 10)"
   ]
  },
  {
   "cell_type": "code",
   "execution_count": 3,
   "id": "0728ba0d-ecd7-4f34-b089-1d32e6d305a6",
   "metadata": {},
   "outputs": [
    {
     "name": "stdout",
     "output_type": "stream",
     "text": [
      "P!\n",
      "y!\n",
      "t!\n",
      "h!\n",
      "o!\n",
      "n!\n"
     ]
    }
   ],
   "source": [
    "parola = \"Python\"\n",
    "for lettera in parola:\n",
    "    print(lettera + \"!\")"
   ]
  },
  {
   "cell_type": "code",
   "execution_count": 7,
   "id": "be30c058-8d37-4ba9-ad60-9da276556a33",
   "metadata": {},
   "outputs": [
    {
     "name": "stdout",
     "output_type": "stream",
     "text": [
      "Prezzo originale: 20\n",
      "Prezzo scontato: 16.0\n",
      "\n",
      "Prezzo originale: 40\n",
      "Prezzo scontato: 32.0\n",
      "\n",
      "Prezzo originale: 50\n",
      "Prezzo scontato: 40.0\n",
      "\n",
      "Prezzo originale: 60\n",
      "Prezzo scontato: 48.0\n",
      "\n",
      "Prezzo originale: 190\n",
      "Prezzo scontato: 152.0\n",
      "\n",
      "Prezzo originale: 30\n",
      "Prezzo scontato: 24.0\n",
      "\n",
      "Finito.\n"
     ]
    }
   ],
   "source": [
    "#Esempio pratico: applichiamo uno sconto ai prezzi dei prodotti di una catena di negozi:\n",
    "prezzi = (20, 40, 50, 60, 190, 30)\n",
    "prezzi_scontati = [] #init\n",
    "for prezzo in prezzi:\n",
    "    print(\"Prezzo originale:\", prezzo)\n",
    "    prezzi_scontati.append(prezzo * 0.8)\n",
    "    print(\"Prezzo scontato:\", prezzo * 0.8)\n",
    "    print(\"\")\n",
    "print(\"Finito.\")"
   ]
  },
  {
   "cell_type": "code",
   "execution_count": 9,
   "id": "d1149d37-ff73-4d6e-a683-64a799f83168",
   "metadata": {},
   "outputs": [
    {
     "name": "stdout",
     "output_type": "stream",
     "text": [
      "Prezzo originale: 20\n",
      "Prezzo scontato: 16.0\n",
      "\n",
      "Prezzo originale: 40\n",
      "Prezzo scontato: 32.0\n",
      "\n",
      "Prezzo originale: 50\n",
      "Prezzo scontato: 40.0\n",
      "\n",
      "Prezzo originale: 60\n",
      "Prezzo scontato: 48.0\n",
      "\n",
      "Prezzo originale: 190\n",
      "Prezzo scontato: 152.0\n",
      "\n",
      "Prezzo originale: 30\n",
      "Prezzo scontato: 24.0\n",
      "\n",
      "Finito.\n"
     ]
    }
   ],
   "source": [
    "#Aggiungiamo una variabile per cambiare sconto a seconda della necessità:\n",
    "prezzi =(20, 40, 50, 60, 190, 30)\n",
    "sconto = 0.2\n",
    "prezzi_scontati = [] #init\n",
    "for prezzo in prezzi:\n",
    "    print(\"Prezzo originale:\", prezzo)\n",
    "    prezzo_scontato = prezzo * (1-sconto)\n",
    "    prezzi_scontati.append(prezzo_scontato)\n",
    "    print(\"Prezzo scontato:\", prezzo_scontato)\n",
    "    print(\"\")\n",
    "print(\"Finito.\")"
   ]
  },
  {
   "cell_type": "code",
   "execution_count": 11,
   "id": "f9282d0a-7906-4090-ae68-f62595408e7e",
   "metadata": {},
   "outputs": [
    {
     "name": "stdout",
     "output_type": "stream",
     "text": [
      "Prezzo originale: 20\n",
      "Prezzo scontato del 10 %: 18.0\n",
      "\n",
      "Prezzo originale: 40\n",
      "Prezzo scontato del 10 %: 36.0\n",
      "\n",
      "Prezzo originale: 50\n",
      "Prezzo scontato del 10 %: 45.0\n",
      "\n",
      "Prezzo originale: 60\n",
      "Prezzo scontato del 30 %: 42.0\n",
      "\n",
      "Prezzo originale: 190\n",
      "Prezzo scontato del 30 %: 133.0\n",
      "\n",
      "Prezzo originale: 30\n",
      "Prezzo scontato del 10 %: 27.0\n",
      "\n",
      "Finito, ecco tutti i prezzi scontati: [18.0, 36.0, 45.0, 42.0, 133.0, 27.0]\n"
     ]
    }
   ],
   "source": [
    "#Usiamo due percentuali di sconto diverse a seconda dell'entità del prezzo:\n",
    "prezzi =(20, 40, 50, 60, 190, 30)\n",
    "sconto1, sconto2 = 30, 10 # %\n",
    "prezzi_scontati = [] #init\n",
    "for prezzo in prezzi:\n",
    "    print(\"Prezzo originale:\", prezzo)\n",
    "    if prezzo > 55:\n",
    "        prezzo_scontato = prezzo * (1-sconto1/100)\n",
    "        print(\"Prezzo scontato del\", sconto1, \"%:\", prezzo_scontato)\n",
    "    else:\n",
    "        prezzo_scontato = prezzo * (1-sconto2/100)\n",
    "        print(\"Prezzo scontato del\", sconto2, \"%:\", prezzo_scontato)\n",
    "    print(\"\")\n",
    "    prezzi_scontati.append(prezzo_scontato)\n",
    "print(\"Finito, ecco tutti i prezzi scontati:\", prezzi_scontati)"
   ]
  },
  {
   "cell_type": "code",
   "execution_count": null,
   "id": "4bdf7c9c-0d68-424e-92c3-4c29ce34a87c",
   "metadata": {},
   "outputs": [],
   "source": []
  }
 ],
 "metadata": {
  "kernelspec": {
   "display_name": "Python [conda env:base] *",
   "language": "python",
   "name": "conda-base-py"
  },
  "language_info": {
   "codemirror_mode": {
    "name": "ipython",
    "version": 3
   },
   "file_extension": ".py",
   "mimetype": "text/x-python",
   "name": "python",
   "nbconvert_exporter": "python",
   "pygments_lexer": "ipython3",
   "version": "3.12.7"
  }
 },
 "nbformat": 4,
 "nbformat_minor": 5
}
